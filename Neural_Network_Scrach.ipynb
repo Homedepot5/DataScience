{
  "nbformat": 4,
  "nbformat_minor": 0,
  "metadata": {
    "colab": {
      "name": "Neural_Network_Scrach",
      "provenance": [],
      "authorship_tag": "ABX9TyPbFjvFqbMyhZFQMFbl9VzO",
      "include_colab_link": true
    },
    "kernelspec": {
      "name": "python3",
      "display_name": "Python 3"
    },
    "accelerator": "TPU"
  },
  "cells": [
    {
      "cell_type": "markdown",
      "metadata": {
        "id": "view-in-github",
        "colab_type": "text"
      },
      "source": [
        "<a href=\"https://colab.research.google.com/github/Homedepot5/DataScience/blob/deeplearning/Neural_Network_Scrach.ipynb\" target=\"_parent\"><img src=\"https://colab.research.google.com/assets/colab-badge.svg\" alt=\"Open In Colab\"/></a>"
      ]
    },
    {
      "cell_type": "code",
      "metadata": {
        "id": "7osXQ77gY90Y",
        "colab_type": "code",
        "colab": {}
      },
      "source": [
        "import numpy as np\n",
        "import tensorflow as tf\n",
        "from tensorflow import keras\n",
        "import pandas as pd\n",
        "from matplotlib import pyplot as plt\n",
        "%matplotlib inline\n",
        "import io"
      ],
      "execution_count": null,
      "outputs": []
    },
    {
      "cell_type": "code",
      "metadata": {
        "id": "hvg4B5kOdp74",
        "colab_type": "code",
        "colab": {}
      },
      "source": [
        "\n",
        "df=pd.read_csv('insurance_data.csv')\n",
        "df"
      ],
      "execution_count": null,
      "outputs": []
    },
    {
      "cell_type": "code",
      "metadata": {
        "id": "Zqw7m9u2eOeu",
        "colab_type": "code",
        "colab": {}
      },
      "source": [
        "from sklearn.model_selection import train_test_split\n",
        "X_train, X_test, y_train, y_test = train_test_split(df[['age','affordibility']],df.bought_insurance,test_size=0.2, random_state=25)"
      ],
      "execution_count": null,
      "outputs": []
    },
    {
      "cell_type": "code",
      "metadata": {
        "id": "uLg8swrAe6Pa",
        "colab_type": "code",
        "colab": {}
      },
      "source": [
        "X_train"
      ],
      "execution_count": null,
      "outputs": []
    },
    {
      "cell_type": "code",
      "metadata": {
        "id": "sv9R_tXxe8y_",
        "colab_type": "code",
        "colab": {}
      },
      "source": [
        "X_trainscaled=  X_train.copy()\n",
        "X_trainscaled['age']=X_trainscaled['age']/100\n",
        "X_testscaled=X_test.copy()\n",
        "X_testscaled.age=X_testscaled['age']/100\n",
        "X_trainscaled"
      ],
      "execution_count": null,
      "outputs": []
    },
    {
      "cell_type": "code",
      "metadata": {
        "id": "jpC5TGoDf3fl",
        "colab_type": "code",
        "colab": {}
      },
      "source": [
        "model = keras.Sequential([\n",
        "    keras.layers.Dense(1, input_shape=(2,), activation='sigmoid', kernel_initializer='ones', bias_initializer='zeros')\n",
        "])\n"
      ],
      "execution_count": null,
      "outputs": []
    },
    {
      "cell_type": "markdown",
      "metadata": {
        "id": "u0sfDt-FgWbx",
        "colab_type": "text"
      },
      "source": [
        "binary_crossentropy  is equal to log loss function\n",
        "\n",
        "\n"
      ]
    },
    {
      "cell_type": "code",
      "metadata": {
        "id": "DjmQB-_3gVwk",
        "colab_type": "code",
        "colab": {}
      },
      "source": [
        "model.compile(optimizer='adam',\n",
        "              loss='binary_crossentropy',\n",
        "              metrics=['accuracy'])"
      ],
      "execution_count": null,
      "outputs": []
    },
    {
      "cell_type": "code",
      "metadata": {
        "id": "fHXzJEYagwuO",
        "colab_type": "code",
        "colab": {}
      },
      "source": [
        "model.fit(X_trainscaled, y_train, epochs=50)"
      ],
      "execution_count": null,
      "outputs": []
    },
    {
      "cell_type": "code",
      "metadata": {
        "id": "eYf9f-SuqBHA",
        "colab_type": "code",
        "colab": {
          "base_uri": "https://localhost:8080/",
          "height": 71
        },
        "outputId": "9ea434e2-2b3b-4290-86b8-6e37bdff9ff5"
      },
      "source": [
        "model.evaluate(X_testscaled,y_test)"
      ],
      "execution_count": null,
      "outputs": [
        {
          "output_type": "stream",
          "text": [
            "1/1 [==============================] - 0s 1ms/step - loss: 0.7087 - accuracy: 0.5000\n"
          ],
          "name": "stdout"
        },
        {
          "output_type": "execute_result",
          "data": {
            "text/plain": [
              "[0.7087469100952148, 0.5]"
            ]
          },
          "metadata": {
            "tags": []
          },
          "execution_count": 24
        }
      ]
    },
    {
      "cell_type": "code",
      "metadata": {
        "id": "dBC0MCegsKXV",
        "colab_type": "code",
        "colab": {
          "base_uri": "https://localhost:8080/",
          "height": 119
        },
        "outputId": "3456c3cb-93dd-4187-d0e9-726a30e70e00"
      },
      "source": [
        "model.predict(X_testscaled)"
      ],
      "execution_count": null,
      "outputs": [
        {
          "output_type": "execute_result",
          "data": {
            "text/plain": [
              "array([[0.7918881 ],\n",
              "       [0.7430606 ],\n",
              "       [0.5477697 ],\n",
              "       [0.76070714],\n",
              "       [0.7949897 ],\n",
              "       [0.8128775 ]], dtype=float32)"
            ]
          },
          "metadata": {
            "tags": []
          },
          "execution_count": 25
        }
      ]
    },
    {
      "cell_type": "code",
      "metadata": {
        "id": "ZOmYT02asOqS",
        "colab_type": "code",
        "colab": {
          "base_uri": "https://localhost:8080/",
          "height": 136
        },
        "outputId": "282f9bd8-6002-4769-ca44-177fbc68072b"
      },
      "source": [
        "y_test"
      ],
      "execution_count": null,
      "outputs": [
        {
          "output_type": "execute_result",
          "data": {
            "text/plain": [
              "2     1\n",
              "10    0\n",
              "21    0\n",
              "11    0\n",
              "14    1\n",
              "9     1\n",
              "Name: bought_insurance, dtype: int64"
            ]
          },
          "metadata": {
            "tags": []
          },
          "execution_count": 26
        }
      ]
    },
    {
      "cell_type": "code",
      "metadata": {
        "id": "Q5JcNVACshIk",
        "colab_type": "code",
        "colab": {}
      },
      "source": [
        "coef, intercept = model.get_weights()"
      ],
      "execution_count": null,
      "outputs": []
    },
    {
      "cell_type": "code",
      "metadata": {
        "id": "vUMYhKpGslpH",
        "colab_type": "code",
        "colab": {
          "base_uri": "https://localhost:8080/",
          "height": 51
        },
        "outputId": "3c3fcf99-79e5-4af9-b20f-c66ba8bd90ee"
      },
      "source": [
        "coef, intercept"
      ],
      "execution_count": null,
      "outputs": [
        {
          "output_type": "execute_result",
          "data": {
            "text/plain": [
              "(array([[0.946231 ],\n",
              "        [0.9459723]], dtype=float32), array([-0.05435663], dtype=float32))"
            ]
          },
          "metadata": {
            "tags": []
          },
          "execution_count": 28
        }
      ]
    },
    {
      "cell_type": "code",
      "metadata": {
        "id": "wMQfcGgLswAw",
        "colab_type": "code",
        "colab": {
          "base_uri": "https://localhost:8080/",
          "height": 34
        },
        "outputId": "fdfe8411-aab6-4bcc-ea50-9c327cff0299"
      },
      "source": [
        "def sigmoid(x):\n",
        "        import math\n",
        "        return 1 / (1 + math.exp(-x))\n",
        "sigmoid(18)"
      ],
      "execution_count": null,
      "outputs": [
        {
          "output_type": "execute_result",
          "data": {
            "text/plain": [
              "0.9999999847700205"
            ]
          },
          "metadata": {
            "tags": []
          },
          "execution_count": 29
        }
      ]
    },
    {
      "cell_type": "code",
      "metadata": {
        "id": "Eq_7LRbQs_t2",
        "colab_type": "code",
        "colab": {}
      },
      "source": [
        "X_test"
      ],
      "execution_count": null,
      "outputs": []
    },
    {
      "cell_type": "code",
      "metadata": {
        "id": "HnZespe-tbbj",
        "colab_type": "code",
        "colab": {
          "base_uri": "https://localhost:8080/",
          "height": 34
        },
        "outputId": "3b90fede-4294-41fc-d028-096bd1fb8e35"
      },
      "source": [
        "def prediction_function(age, affordibility):\n",
        "    weighted_sum = coef[0]*age + coef[1]*affordibility + intercept\n",
        "    return sigmoid(weighted_sum)\n",
        "\n",
        "prediction_function(.47, 1)"
      ],
      "execution_count": null,
      "outputs": [
        {
          "output_type": "execute_result",
          "data": {
            "text/plain": [
              "0.7918881301854145"
            ]
          },
          "metadata": {
            "tags": []
          },
          "execution_count": 31
        }
      ]
    },
    {
      "cell_type": "code",
      "metadata": {
        "id": "Sgz26g9ythQE",
        "colab_type": "code",
        "colab": {
          "base_uri": "https://localhost:8080/",
          "height": 34
        },
        "outputId": "d7901101-de78-4814-bae3-da9580df9109"
      },
      "source": [
        "prediction_function(.18, 1)"
      ],
      "execution_count": null,
      "outputs": [
        {
          "output_type": "execute_result",
          "data": {
            "text/plain": [
              "0.7430605978900275"
            ]
          },
          "metadata": {
            "tags": []
          },
          "execution_count": 32
        }
      ]
    },
    {
      "cell_type": "code",
      "metadata": {
        "id": "2QLfrsbzuzfJ",
        "colab_type": "code",
        "colab": {
          "base_uri": "https://localhost:8080/",
          "height": 34
        },
        "outputId": "a020a04f-9cc5-42f8-a53a-93cdb876840f"
      },
      "source": [
        "def sigmoid_numpy(X):\n",
        "   return 1/(1+np.exp(-X))\n",
        "\n",
        "sigmoid_numpy(np.array([12,0,1]))"
      ],
      "execution_count": null,
      "outputs": [
        {
          "output_type": "execute_result",
          "data": {
            "text/plain": [
              "array([0.99999386, 0.5       , 0.73105858])"
            ]
          },
          "metadata": {
            "tags": []
          },
          "execution_count": 34
        }
      ]
    },
    {
      "cell_type": "code",
      "metadata": {
        "id": "HDJnbvdvuEbw",
        "colab_type": "code",
        "colab": {}
      },
      "source": [
        "def log_loss(y_true, y_predicted):\n",
        "    epsilon = 1e-15\n",
        "    y_predicted_new = [max(i,epsilon) for i in y_predicted]\n",
        "    y_predicted_new = [min(i,1-epsilon) for i in y_predicted_new]\n",
        "    y_predicted_new = np.array(y_predicted_new)\n",
        "    return -np.mean(y_true*np.log(y_predicted_new)+(1-y_true)*np.log(1-y_predicted_new))"
      ],
      "execution_count": null,
      "outputs": []
    },
    {
      "cell_type": "code",
      "metadata": {
        "id": "xMKBdk5e9WzG",
        "colab_type": "code",
        "colab": {}
      },
      "source": [
        "class myNN:\n",
        "    def __init__(self):\n",
        "        self.w1 = 1 \n",
        "        self.w2 = 1\n",
        "        self.bias = 0\n",
        "        \n",
        "    def fit(self, X, y, epochs, loss_thresold):\n",
        "        self.w1, self.w2, self.bias = self.gradient_descent(X['age'],X['affordibility'],y, epochs, loss_thresold)\n",
        "        print(f\"Final weights and bias: w1: {self.w1}, w2: {self.w2}, bias: {self.bias}\")\n",
        "        \n",
        "    def predict(self, X_test):\n",
        "        weighted_sum = self.w1*X_test['age'] + self.w2*X_test['affordibility'] + self.bias\n",
        "        return sigmoid_numpy(weighted_sum)\n",
        "\n",
        "    def gradient_descent(self, age,affordability, y_true, epochs, loss_thresold):\n",
        "        w1 = w2 = 1\n",
        "        bias = 0\n",
        "        rate = 0.5\n",
        "        n = len(age)\n",
        "        for i in range(epochs):\n",
        "            weighted_sum = w1 * age + w2 * affordability + bias\n",
        "            y_predicted = sigmoid_numpy(weighted_sum)\n",
        "            loss = log_loss(y_true, y_predicted)\n",
        "            \n",
        "            w1d = (1/n)*np.dot(np.transpose(age),(y_predicted-y_true)) \n",
        "            w2d = (1/n)*np.dot(np.transpose(affordability),(y_predicted-y_true)) \n",
        "\n",
        "            bias_d = np.mean(y_predicted-y_true)\n",
        "            w1 = w1 - rate * w1d\n",
        "            w2 = w2 - rate * w2d\n",
        "            bias = bias - rate * bias_d\n",
        "            \n",
        "            if i%50==0:\n",
        "                print (f'Epoch:{i}, w1:{w1}, w2:{w2}, bias:{bias}, loss:{loss}')\n",
        "            \n",
        "            if loss<=loss_thresold:\n",
        "                print (f'Epoch:{i}, w1:{w1}, w2:{w2}, bias:{bias}, loss:{loss}')\n",
        "                break\n",
        "\n",
        "        return w1, w2, bias"
      ],
      "execution_count": null,
      "outputs": []
    },
    {
      "cell_type": "code",
      "metadata": {
        "id": "f1yXeFvE-Lsi",
        "colab_type": "code",
        "colab": {}
      },
      "source": [
        ""
      ],
      "execution_count": null,
      "outputs": []
    },
    {
      "cell_type": "markdown",
      "metadata": {
        "id": "oUPlIMlU8UeY",
        "colab_type": "text"
      },
      "source": [
        "Neural NEtwork from scratch"
      ]
    },
    {
      "cell_type": "code",
      "metadata": {
        "id": "TSlWsqS48Ynz",
        "colab_type": "code",
        "colab": {
          "base_uri": "https://localhost:8080/",
          "height": 207
        },
        "outputId": "cc68fbed-63ac-4ea6-f23e-448f8c2181eb"
      },
      "source": [
        "custommodel=myNN()\n",
        "custommodel.fit(X_trainscaled,y_train, epochs=500, loss_thresold=0.4631)"
      ],
      "execution_count": null,
      "outputs": [
        {
          "output_type": "stream",
          "text": [
            "Epoch:0, w1:0.974907633470177, w2:0.948348125394529, bias:-0.11341867736368583, loss:0.7113403233723417\n",
            "Epoch:50, w1:1.503319554173139, w2:1.108384790367645, bias:-1.2319047301235464, loss:0.5675865113475955\n",
            "Epoch:100, w1:2.200713131760032, w2:1.2941584023238903, bias:-1.6607009122062801, loss:0.5390680417774752\n",
            "Epoch:150, w1:2.8495727769689085, w2:1.3696895491572745, bias:-1.986105845859897, loss:0.5176462164249293\n",
            "Epoch:200, w1:3.443016970881803, w2:1.4042218624465033, bias:-2.2571369883752723, loss:0.5005011269691375\n",
            "Epoch:250, w1:3.982450494649576, w2:1.4239127329321233, bias:-2.494377365971801, loss:0.48654089537617085\n",
            "Epoch:300, w1:4.472179522095915, w2:1.438787986553552, bias:-2.707387811922373, loss:0.4750814640632793\n",
            "Epoch:350, w1:4.917245868007634, w2:1.4525660781176122, bias:-2.901176333556766, loss:0.46561475306999006\n",
            "Epoch:366, w1:5.051047623653049, w2:1.4569794548473887, bias:-2.9596534546250037, loss:0.46293944095888906\n",
            "Final weights and bias: w1: 5.051047623653049, w2: 1.4569794548473887, bias: -2.9596534546250037\n"
          ],
          "name": "stdout"
        }
      ]
    },
    {
      "cell_type": "code",
      "metadata": {
        "id": "L1JMKq_0HHzy",
        "colab_type": "code",
        "colab": {
          "base_uri": "https://localhost:8080/",
          "height": 51
        },
        "outputId": "5a2020c1-480a-45c4-c82c-b8f8b7ef0672"
      },
      "source": [
        "coef, intercept"
      ],
      "execution_count": null,
      "outputs": [
        {
          "output_type": "execute_result",
          "data": {
            "text/plain": [
              "(array([[0.946231 ],\n",
              "        [0.9459723]], dtype=float32), array([-0.05435663], dtype=float32))"
            ]
          },
          "metadata": {
            "tags": []
          },
          "execution_count": 45
        }
      ]
    },
    {
      "cell_type": "markdown",
      "metadata": {
        "id": "TrZTI1VpHHhA",
        "colab_type": "text"
      },
      "source": [
        ""
      ]
    },
    {
      "cell_type": "code",
      "metadata": {
        "id": "5hghCKqO9R-n",
        "colab_type": "code",
        "colab": {
          "base_uri": "https://localhost:8080/",
          "height": 136
        },
        "outputId": "07973246-f627-4eee-d67a-c4a99f5df783"
      },
      "source": [
        "custommodel.predict(X_testscaled)"
      ],
      "execution_count": null,
      "outputs": [
        {
          "output_type": "execute_result",
          "data": {
            "text/plain": [
              "2     0.641252\n",
              "10    0.537178\n",
              "21    0.302699\n",
              "11    0.573926\n",
              "14    0.648073\n",
              "9     0.687673\n",
              "dtype: float64"
            ]
          },
          "metadata": {
            "tags": []
          },
          "execution_count": 48
        }
      ]
    },
    {
      "cell_type": "code",
      "metadata": {
        "id": "1Nx2g5fII8U-",
        "colab_type": "code",
        "colab": {
          "base_uri": "https://localhost:8080/",
          "height": 119
        },
        "outputId": "71d20f63-439a-4c87-c098-ee6e99bc9fdf"
      },
      "source": [
        "model.predict(X_testscaled)"
      ],
      "execution_count": null,
      "outputs": [
        {
          "output_type": "execute_result",
          "data": {
            "text/plain": [
              "array([[0.7918881 ],\n",
              "       [0.7430606 ],\n",
              "       [0.5477697 ],\n",
              "       [0.76070714],\n",
              "       [0.7949897 ],\n",
              "       [0.8128775 ]], dtype=float32)"
            ]
          },
          "metadata": {
            "tags": []
          },
          "execution_count": 51
        }
      ]
    }
  ]
}