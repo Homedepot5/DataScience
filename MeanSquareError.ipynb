{
  "nbformat": 4,
  "nbformat_minor": 0,
  "metadata": {
    "colab": {
      "name": "MeanSquareError.ipynb",
      "provenance": [],
      "authorship_tag": "ABX9TyNFKAIh63hEySexGcBM8tgr",
      "include_colab_link": true
    },
    "kernelspec": {
      "name": "python3",
      "display_name": "Python 3"
    }
  },
  "cells": [
    {
      "cell_type": "markdown",
      "metadata": {
        "id": "view-in-github",
        "colab_type": "text"
      },
      "source": [
        "<a href=\"https://colab.research.google.com/github/Homedepot5/DataScience/blob/deeplearning/MeanSquareError.ipynb\" target=\"_parent\"><img src=\"https://colab.research.google.com/assets/colab-badge.svg\" alt=\"Open In Colab\"/></a>"
      ]
    },
    {
      "cell_type": "code",
      "metadata": {
        "id": "LbSolS5k_CGL",
        "colab_type": "code",
        "colab": {}
      },
      "source": [
        "import numpy as np\n",
        "y_predicted = np.array([1,1,0,0,1])\n",
        "y_true = np.array([0.30,0.7,1,0,0.5])"
      ],
      "execution_count": 24,
      "outputs": []
    },
    {
      "cell_type": "markdown",
      "metadata": {
        "id": "kswjIv4v_Vsa",
        "colab_type": "text"
      },
      "source": [
        "Using Numpy"
      ]
    },
    {
      "cell_type": "code",
      "metadata": {
        "id": "JrJ7C_uq_VNI",
        "colab_type": "code",
        "colab": {
          "base_uri": "https://localhost:8080/",
          "height": 34
        },
        "outputId": "0f6ff8db-f3c0-48a7-83db-5cf3f47d1b0b"
      },
      "source": [
        "np.mean(np.square(y_predicted-y_true))"
      ],
      "execution_count": 25,
      "outputs": [
        {
          "output_type": "execute_result",
          "data": {
            "text/plain": [
              "0.366"
            ]
          },
          "metadata": {
            "tags": []
          },
          "execution_count": 25
        }
      ]
    },
    {
      "cell_type": "markdown",
      "metadata": {
        "id": "gO0uR7Mw_-he",
        "colab_type": "text"
      },
      "source": [
        "with python"
      ]
    },
    {
      "cell_type": "code",
      "metadata": {
        "id": "FeETAXlbAAzq",
        "colab_type": "code",
        "colab": {}
      },
      "source": [
        "def mae(y_predicted, y_true):\n",
        "    total_error = 0\n",
        "    for yp, yt in zip(y_predicted, y_true):\n",
        "        total_error += abs(yp - yt)**2\n",
        "    print(\"Total Square error is:\",total_error)\n",
        "    mae = total_error/len(y_true)\n",
        "    print(\"Mean absolute error is:\",mae)\n",
        "    return mae"
      ],
      "execution_count": 26,
      "outputs": []
    },
    {
      "cell_type": "code",
      "metadata": {
        "id": "XUX4fpUHADNn",
        "colab_type": "code",
        "colab": {
          "base_uri": "https://localhost:8080/",
          "height": 68
        },
        "outputId": "66c2e5a0-b86e-4cc3-9a4d-b186bb58b262"
      },
      "source": [
        "mae(y_predicted,y_true)"
      ],
      "execution_count": 27,
      "outputs": [
        {
          "output_type": "stream",
          "text": [
            "Total Square error is: 1.83\n",
            "Mean absolute error is: 0.366\n"
          ],
          "name": "stdout"
        },
        {
          "output_type": "execute_result",
          "data": {
            "text/plain": [
              "0.366"
            ]
          },
          "metadata": {
            "tags": []
          },
          "execution_count": 27
        }
      ]
    }
  ]
}