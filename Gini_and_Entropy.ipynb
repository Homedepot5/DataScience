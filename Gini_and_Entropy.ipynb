{
  "nbformat": 4,
  "nbformat_minor": 0,
  "metadata": {
    "colab": {
      "name": "Gini and Entropy.ipynb",
      "provenance": [],
      "authorship_tag": "ABX9TyONjwW76WCS/CAFcHYqlQKs",
      "include_colab_link": true
    },
    "kernelspec": {
      "name": "python3",
      "display_name": "Python 3"
    }
  },
  "cells": [
    {
      "cell_type": "markdown",
      "metadata": {
        "id": "view-in-github",
        "colab_type": "text"
      },
      "source": [
        "<a href=\"https://colab.research.google.com/github/Homedepot5/DataScience/blob/origin%2Ffeature%2Fdevelopment/Gini_and_Entropy.ipynb\" target=\"_parent\"><img src=\"https://colab.research.google.com/assets/colab-badge.svg\" alt=\"Open In Colab\"/></a>"
      ]
    },
    {
      "cell_type": "code",
      "metadata": {
        "id": "9w3IJX9URbkU",
        "colab_type": "code",
        "colab": {}
      },
      "source": [
        "import pandas as pd"
      ],
      "execution_count": null,
      "outputs": []
    },
    {
      "cell_type": "code",
      "metadata": {
        "id": "86f4xEztROEU",
        "colab_type": "code",
        "colab": {}
      },
      "source": [
        "def gini(a,b):\n",
        "    a1 = (a/(a+b))**2\n",
        "    b1 = (b/(a+b))**2\n",
        "    return 1 - (a1 + b1)"
      ],
      "execution_count": null,
      "outputs": []
    },
    {
      "cell_type": "code",
      "metadata": {
        "id": "b7NekQ4iRRKJ",
        "colab_type": "code",
        "colab": {}
      },
      "source": [
        "#Blank lists\n",
        "gini_list = []\n",
        "blue_list = []\n",
        "red_list = []\n",
        "blue_prob_list = []\n",
        "#Looping Gini function on random blue and red float amounts\n",
        "for x in range (10000):\n",
        " blue = random.uniform(0, 4)\n",
        " red = abs(4-blue)\n",
        " a = gini(red,blue)\n",
        " b = blue/(blue+red)\n",
        " gini_list.append(a)\n",
        " blue_list.append(blue)\n",
        " red_list.append(red)\n",
        " blue_prob_list.append(b)\n",
        "#Dataframe of amount of blue, red, Probability of blue, and gini score\n",
        "df = pd.DataFrame({“Blue”: blue_list, “Red”: red_list,”Gini Score”: gini_list, “Probability of Blue”: blue_prob_list})\n",
        "df = df[[‘Red’, ‘Blue’, ‘Probability of Blue’, ‘Gini Score’]]\n",
        "df\n",
        "\n",
        "\n",
        "\n"
      ],
      "execution_count": null,
      "outputs": []
    },
    {
      "cell_type": "code",
      "metadata": {
        "id": "R5Ds-TuWRZoC",
        "colab_type": "code",
        "colab": {}
      },
      "source": [
        "pa=pd.DataFrame({\"AMAA\"})\n",
        "pa"
      ],
      "execution_count": null,
      "outputs": []
    }
  ]
}