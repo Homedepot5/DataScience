{
  "nbformat": 4,
  "nbformat_minor": 0,
  "metadata": {
    "colab": {
      "name": "TimeSeries.ipynb",
      "provenance": [],
      "authorship_tag": "ABX9TyPyI5iU8RRxG/BKoCkqIRlY",
      "include_colab_link": true
    },
    "kernelspec": {
      "name": "python3",
      "display_name": "Python 3"
    }
  },
  "cells": [
    {
      "cell_type": "markdown",
      "metadata": {
        "id": "view-in-github",
        "colab_type": "text"
      },
      "source": [
        "<a href=\"https://colab.research.google.com/github/Homedepot5/DataScience/blob/deeplearning/TimeSeries.ipynb\" target=\"_parent\"><img src=\"https://colab.research.google.com/assets/colab-badge.svg\" alt=\"Open In Colab\"/></a>"
      ]
    },
    {
      "cell_type": "code",
      "metadata": {
        "id": "ddzbxDg0sS5T",
        "colab_type": "code",
        "colab": {
          "base_uri": "https://localhost:8080/",
          "height": 34
        },
        "outputId": "8faa12e2-c069-443a-b43b-44d5c881d487"
      },
      "source": [
        "import pandas as pd\n",
        "y=pd.Period('2016')\n",
        "y"
      ],
      "execution_count": 2,
      "outputs": [
        {
          "output_type": "execute_result",
          "data": {
            "text/plain": [
              "Period('2016', 'A-DEC')"
            ]
          },
          "metadata": {
            "tags": []
          },
          "execution_count": 2
        }
      ]
    },
    {
      "cell_type": "code",
      "metadata": {
        "id": "kRf6CgSJzisS",
        "colab_type": "code",
        "colab": {
          "base_uri": "https://localhost:8080/",
          "height": 34
        },
        "outputId": "7d4cf215-ab5e-4996-ea55-6e9bb82ddee0"
      },
      "source": [
        "y.start_time"
      ],
      "execution_count": 3,
      "outputs": [
        {
          "output_type": "execute_result",
          "data": {
            "text/plain": [
              "Timestamp('2016-01-01 00:00:00')"
            ]
          },
          "metadata": {
            "tags": []
          },
          "execution_count": 3
        }
      ]
    },
    {
      "cell_type": "code",
      "metadata": {
        "id": "q1vT7vTu0Tbi",
        "colab_type": "code",
        "colab": {
          "base_uri": "https://localhost:8080/",
          "height": 34
        },
        "outputId": "13af6a11-dac1-4887-b925-08b5b83a0bd3"
      },
      "source": [
        "q2=pd.Period('2018Q2',freq='Q-JAN')\n",
        "q2"
      ],
      "execution_count": 5,
      "outputs": [
        {
          "output_type": "execute_result",
          "data": {
            "text/plain": [
              "Period('2018Q2', 'Q-JAN')"
            ]
          },
          "metadata": {
            "tags": []
          },
          "execution_count": 5
        }
      ]
    },
    {
      "cell_type": "markdown",
      "metadata": {
        "id": "UXGKlmghMFKz",
        "colab_type": "text"
      },
      "source": [
        "Shift Lag"
      ]
    },
    {
      "cell_type": "code",
      "metadata": {
        "id": "IJ6yrBsnIEGK",
        "colab_type": "code",
        "colab": {
          "base_uri": "https://localhost:8080/",
          "height": 390
        },
        "outputId": "ada79762-5a2c-47ec-96cd-22f7ce23452c"
      },
      "source": [
        "fb=pd.read_csv(\"fb.csv\",parse_dates=['Date'],index_col='Date')\n",
        "fb"
      ],
      "execution_count": 12,
      "outputs": [
        {
          "output_type": "execute_result",
          "data": {
            "text/html": [
              "<div>\n",
              "<style scoped>\n",
              "    .dataframe tbody tr th:only-of-type {\n",
              "        vertical-align: middle;\n",
              "    }\n",
              "\n",
              "    .dataframe tbody tr th {\n",
              "        vertical-align: top;\n",
              "    }\n",
              "\n",
              "    .dataframe thead th {\n",
              "        text-align: right;\n",
              "    }\n",
              "</style>\n",
              "<table border=\"1\" class=\"dataframe\">\n",
              "  <thead>\n",
              "    <tr style=\"text-align: right;\">\n",
              "      <th></th>\n",
              "      <th>Price</th>\n",
              "    </tr>\n",
              "    <tr>\n",
              "      <th>Date</th>\n",
              "      <th></th>\n",
              "    </tr>\n",
              "  </thead>\n",
              "  <tbody>\n",
              "    <tr>\n",
              "      <th>2017-08-15</th>\n",
              "      <td>171.00</td>\n",
              "    </tr>\n",
              "    <tr>\n",
              "      <th>2017-08-16</th>\n",
              "      <td>170.00</td>\n",
              "    </tr>\n",
              "    <tr>\n",
              "      <th>2017-08-17</th>\n",
              "      <td>166.91</td>\n",
              "    </tr>\n",
              "    <tr>\n",
              "      <th>2017-08-18</th>\n",
              "      <td>167.41</td>\n",
              "    </tr>\n",
              "    <tr>\n",
              "      <th>2017-08-21</th>\n",
              "      <td>167.78</td>\n",
              "    </tr>\n",
              "    <tr>\n",
              "      <th>2017-08-22</th>\n",
              "      <td>169.64</td>\n",
              "    </tr>\n",
              "    <tr>\n",
              "      <th>2017-08-23</th>\n",
              "      <td>168.71</td>\n",
              "    </tr>\n",
              "    <tr>\n",
              "      <th>2017-08-24</th>\n",
              "      <td>167.74</td>\n",
              "    </tr>\n",
              "    <tr>\n",
              "      <th>2017-08-25</th>\n",
              "      <td>166.32</td>\n",
              "    </tr>\n",
              "    <tr>\n",
              "      <th>2017-08-28</th>\n",
              "      <td>167.24</td>\n",
              "    </tr>\n",
              "  </tbody>\n",
              "</table>\n",
              "</div>"
            ],
            "text/plain": [
              "             Price\n",
              "Date              \n",
              "2017-08-15  171.00\n",
              "2017-08-16  170.00\n",
              "2017-08-17  166.91\n",
              "2017-08-18  167.41\n",
              "2017-08-21  167.78\n",
              "2017-08-22  169.64\n",
              "2017-08-23  168.71\n",
              "2017-08-24  167.74\n",
              "2017-08-25  166.32\n",
              "2017-08-28  167.24"
            ]
          },
          "metadata": {
            "tags": []
          },
          "execution_count": 12
        }
      ]
    },
    {
      "cell_type": "code",
      "metadata": {
        "id": "8H-6jrokNItZ",
        "colab_type": "code",
        "colab": {
          "base_uri": "https://localhost:8080/",
          "height": 390
        },
        "outputId": "9548396c-4670-459a-b0c9-1e674c6007f2"
      },
      "source": [
        "fb.shift(1)"
      ],
      "execution_count": 13,
      "outputs": [
        {
          "output_type": "execute_result",
          "data": {
            "text/html": [
              "<div>\n",
              "<style scoped>\n",
              "    .dataframe tbody tr th:only-of-type {\n",
              "        vertical-align: middle;\n",
              "    }\n",
              "\n",
              "    .dataframe tbody tr th {\n",
              "        vertical-align: top;\n",
              "    }\n",
              "\n",
              "    .dataframe thead th {\n",
              "        text-align: right;\n",
              "    }\n",
              "</style>\n",
              "<table border=\"1\" class=\"dataframe\">\n",
              "  <thead>\n",
              "    <tr style=\"text-align: right;\">\n",
              "      <th></th>\n",
              "      <th>Price</th>\n",
              "    </tr>\n",
              "    <tr>\n",
              "      <th>Date</th>\n",
              "      <th></th>\n",
              "    </tr>\n",
              "  </thead>\n",
              "  <tbody>\n",
              "    <tr>\n",
              "      <th>2017-08-15</th>\n",
              "      <td>NaN</td>\n",
              "    </tr>\n",
              "    <tr>\n",
              "      <th>2017-08-16</th>\n",
              "      <td>171.00</td>\n",
              "    </tr>\n",
              "    <tr>\n",
              "      <th>2017-08-17</th>\n",
              "      <td>170.00</td>\n",
              "    </tr>\n",
              "    <tr>\n",
              "      <th>2017-08-18</th>\n",
              "      <td>166.91</td>\n",
              "    </tr>\n",
              "    <tr>\n",
              "      <th>2017-08-21</th>\n",
              "      <td>167.41</td>\n",
              "    </tr>\n",
              "    <tr>\n",
              "      <th>2017-08-22</th>\n",
              "      <td>167.78</td>\n",
              "    </tr>\n",
              "    <tr>\n",
              "      <th>2017-08-23</th>\n",
              "      <td>169.64</td>\n",
              "    </tr>\n",
              "    <tr>\n",
              "      <th>2017-08-24</th>\n",
              "      <td>168.71</td>\n",
              "    </tr>\n",
              "    <tr>\n",
              "      <th>2017-08-25</th>\n",
              "      <td>167.74</td>\n",
              "    </tr>\n",
              "    <tr>\n",
              "      <th>2017-08-28</th>\n",
              "      <td>166.32</td>\n",
              "    </tr>\n",
              "  </tbody>\n",
              "</table>\n",
              "</div>"
            ],
            "text/plain": [
              "             Price\n",
              "Date              \n",
              "2017-08-15     NaN\n",
              "2017-08-16  171.00\n",
              "2017-08-17  170.00\n",
              "2017-08-18  166.91\n",
              "2017-08-21  167.41\n",
              "2017-08-22  167.78\n",
              "2017-08-23  169.64\n",
              "2017-08-24  168.71\n",
              "2017-08-25  167.74\n",
              "2017-08-28  166.32"
            ]
          },
          "metadata": {
            "tags": []
          },
          "execution_count": 13
        }
      ]
    },
    {
      "cell_type": "code",
      "metadata": {
        "id": "qSlPufRUNgVw",
        "colab_type": "code",
        "colab": {
          "base_uri": "https://localhost:8080/",
          "height": 390
        },
        "outputId": "745efb73-5ec6-4679-8d66-c05e59e2ccd6"
      },
      "source": [
        "fb.shift(-1)"
      ],
      "execution_count": 14,
      "outputs": [
        {
          "output_type": "execute_result",
          "data": {
            "text/html": [
              "<div>\n",
              "<style scoped>\n",
              "    .dataframe tbody tr th:only-of-type {\n",
              "        vertical-align: middle;\n",
              "    }\n",
              "\n",
              "    .dataframe tbody tr th {\n",
              "        vertical-align: top;\n",
              "    }\n",
              "\n",
              "    .dataframe thead th {\n",
              "        text-align: right;\n",
              "    }\n",
              "</style>\n",
              "<table border=\"1\" class=\"dataframe\">\n",
              "  <thead>\n",
              "    <tr style=\"text-align: right;\">\n",
              "      <th></th>\n",
              "      <th>Price</th>\n",
              "    </tr>\n",
              "    <tr>\n",
              "      <th>Date</th>\n",
              "      <th></th>\n",
              "    </tr>\n",
              "  </thead>\n",
              "  <tbody>\n",
              "    <tr>\n",
              "      <th>2017-08-15</th>\n",
              "      <td>170.00</td>\n",
              "    </tr>\n",
              "    <tr>\n",
              "      <th>2017-08-16</th>\n",
              "      <td>166.91</td>\n",
              "    </tr>\n",
              "    <tr>\n",
              "      <th>2017-08-17</th>\n",
              "      <td>167.41</td>\n",
              "    </tr>\n",
              "    <tr>\n",
              "      <th>2017-08-18</th>\n",
              "      <td>167.78</td>\n",
              "    </tr>\n",
              "    <tr>\n",
              "      <th>2017-08-21</th>\n",
              "      <td>169.64</td>\n",
              "    </tr>\n",
              "    <tr>\n",
              "      <th>2017-08-22</th>\n",
              "      <td>168.71</td>\n",
              "    </tr>\n",
              "    <tr>\n",
              "      <th>2017-08-23</th>\n",
              "      <td>167.74</td>\n",
              "    </tr>\n",
              "    <tr>\n",
              "      <th>2017-08-24</th>\n",
              "      <td>166.32</td>\n",
              "    </tr>\n",
              "    <tr>\n",
              "      <th>2017-08-25</th>\n",
              "      <td>167.24</td>\n",
              "    </tr>\n",
              "    <tr>\n",
              "      <th>2017-08-28</th>\n",
              "      <td>NaN</td>\n",
              "    </tr>\n",
              "  </tbody>\n",
              "</table>\n",
              "</div>"
            ],
            "text/plain": [
              "             Price\n",
              "Date              \n",
              "2017-08-15  170.00\n",
              "2017-08-16  166.91\n",
              "2017-08-17  167.41\n",
              "2017-08-18  167.78\n",
              "2017-08-21  169.64\n",
              "2017-08-22  168.71\n",
              "2017-08-23  167.74\n",
              "2017-08-24  166.32\n",
              "2017-08-25  167.24\n",
              "2017-08-28     NaN"
            ]
          },
          "metadata": {
            "tags": []
          },
          "execution_count": 14
        }
      ]
    },
    {
      "cell_type": "code",
      "metadata": {
        "id": "48-hNmx6NzuB",
        "colab_type": "code",
        "colab": {
          "base_uri": "https://localhost:8080/",
          "height": 390
        },
        "outputId": "d41bafdd-c4ae-4a6f-f2f6-b9e8f8be752b"
      },
      "source": [
        "fb['Prev day Price']= fb['Price'].shift(1)\n",
        "fb"
      ],
      "execution_count": 18,
      "outputs": [
        {
          "output_type": "execute_result",
          "data": {
            "text/html": [
              "<div>\n",
              "<style scoped>\n",
              "    .dataframe tbody tr th:only-of-type {\n",
              "        vertical-align: middle;\n",
              "    }\n",
              "\n",
              "    .dataframe tbody tr th {\n",
              "        vertical-align: top;\n",
              "    }\n",
              "\n",
              "    .dataframe thead th {\n",
              "        text-align: right;\n",
              "    }\n",
              "</style>\n",
              "<table border=\"1\" class=\"dataframe\">\n",
              "  <thead>\n",
              "    <tr style=\"text-align: right;\">\n",
              "      <th></th>\n",
              "      <th>Price</th>\n",
              "      <th>Prev day Price</th>\n",
              "    </tr>\n",
              "    <tr>\n",
              "      <th>Date</th>\n",
              "      <th></th>\n",
              "      <th></th>\n",
              "    </tr>\n",
              "  </thead>\n",
              "  <tbody>\n",
              "    <tr>\n",
              "      <th>2017-08-15</th>\n",
              "      <td>171.00</td>\n",
              "      <td>NaN</td>\n",
              "    </tr>\n",
              "    <tr>\n",
              "      <th>2017-08-16</th>\n",
              "      <td>170.00</td>\n",
              "      <td>171.00</td>\n",
              "    </tr>\n",
              "    <tr>\n",
              "      <th>2017-08-17</th>\n",
              "      <td>166.91</td>\n",
              "      <td>170.00</td>\n",
              "    </tr>\n",
              "    <tr>\n",
              "      <th>2017-08-18</th>\n",
              "      <td>167.41</td>\n",
              "      <td>166.91</td>\n",
              "    </tr>\n",
              "    <tr>\n",
              "      <th>2017-08-21</th>\n",
              "      <td>167.78</td>\n",
              "      <td>167.41</td>\n",
              "    </tr>\n",
              "    <tr>\n",
              "      <th>2017-08-22</th>\n",
              "      <td>169.64</td>\n",
              "      <td>167.78</td>\n",
              "    </tr>\n",
              "    <tr>\n",
              "      <th>2017-08-23</th>\n",
              "      <td>168.71</td>\n",
              "      <td>169.64</td>\n",
              "    </tr>\n",
              "    <tr>\n",
              "      <th>2017-08-24</th>\n",
              "      <td>167.74</td>\n",
              "      <td>168.71</td>\n",
              "    </tr>\n",
              "    <tr>\n",
              "      <th>2017-08-25</th>\n",
              "      <td>166.32</td>\n",
              "      <td>167.74</td>\n",
              "    </tr>\n",
              "    <tr>\n",
              "      <th>2017-08-28</th>\n",
              "      <td>167.24</td>\n",
              "      <td>166.32</td>\n",
              "    </tr>\n",
              "  </tbody>\n",
              "</table>\n",
              "</div>"
            ],
            "text/plain": [
              "             Price  Prev day Price\n",
              "Date                              \n",
              "2017-08-15  171.00             NaN\n",
              "2017-08-16  170.00          171.00\n",
              "2017-08-17  166.91          170.00\n",
              "2017-08-18  167.41          166.91\n",
              "2017-08-21  167.78          167.41\n",
              "2017-08-22  169.64          167.78\n",
              "2017-08-23  168.71          169.64\n",
              "2017-08-24  167.74          168.71\n",
              "2017-08-25  166.32          167.74\n",
              "2017-08-28  167.24          166.32"
            ]
          },
          "metadata": {
            "tags": []
          },
          "execution_count": 18
        }
      ]
    },
    {
      "cell_type": "code",
      "metadata": {
        "id": "FXC0OF75PXIY",
        "colab_type": "code",
        "colab": {
          "base_uri": "https://localhost:8080/",
          "height": 390
        },
        "outputId": "54a08cda-35fa-4db2-91d3-afc46fb892c4"
      },
      "source": [
        "fb['Price Change'] = fb['Price'] - fb['Prev day Price']\n",
        "fb"
      ],
      "execution_count": 20,
      "outputs": [
        {
          "output_type": "execute_result",
          "data": {
            "text/html": [
              "<div>\n",
              "<style scoped>\n",
              "    .dataframe tbody tr th:only-of-type {\n",
              "        vertical-align: middle;\n",
              "    }\n",
              "\n",
              "    .dataframe tbody tr th {\n",
              "        vertical-align: top;\n",
              "    }\n",
              "\n",
              "    .dataframe thead th {\n",
              "        text-align: right;\n",
              "    }\n",
              "</style>\n",
              "<table border=\"1\" class=\"dataframe\">\n",
              "  <thead>\n",
              "    <tr style=\"text-align: right;\">\n",
              "      <th></th>\n",
              "      <th>Price</th>\n",
              "      <th>Prev day Price</th>\n",
              "      <th>Price Change</th>\n",
              "    </tr>\n",
              "    <tr>\n",
              "      <th>Date</th>\n",
              "      <th></th>\n",
              "      <th></th>\n",
              "      <th></th>\n",
              "    </tr>\n",
              "  </thead>\n",
              "  <tbody>\n",
              "    <tr>\n",
              "      <th>2017-08-15</th>\n",
              "      <td>171.00</td>\n",
              "      <td>NaN</td>\n",
              "      <td>NaN</td>\n",
              "    </tr>\n",
              "    <tr>\n",
              "      <th>2017-08-16</th>\n",
              "      <td>170.00</td>\n",
              "      <td>171.00</td>\n",
              "      <td>-1.00</td>\n",
              "    </tr>\n",
              "    <tr>\n",
              "      <th>2017-08-17</th>\n",
              "      <td>166.91</td>\n",
              "      <td>170.00</td>\n",
              "      <td>-3.09</td>\n",
              "    </tr>\n",
              "    <tr>\n",
              "      <th>2017-08-18</th>\n",
              "      <td>167.41</td>\n",
              "      <td>166.91</td>\n",
              "      <td>0.50</td>\n",
              "    </tr>\n",
              "    <tr>\n",
              "      <th>2017-08-21</th>\n",
              "      <td>167.78</td>\n",
              "      <td>167.41</td>\n",
              "      <td>0.37</td>\n",
              "    </tr>\n",
              "    <tr>\n",
              "      <th>2017-08-22</th>\n",
              "      <td>169.64</td>\n",
              "      <td>167.78</td>\n",
              "      <td>1.86</td>\n",
              "    </tr>\n",
              "    <tr>\n",
              "      <th>2017-08-23</th>\n",
              "      <td>168.71</td>\n",
              "      <td>169.64</td>\n",
              "      <td>-0.93</td>\n",
              "    </tr>\n",
              "    <tr>\n",
              "      <th>2017-08-24</th>\n",
              "      <td>167.74</td>\n",
              "      <td>168.71</td>\n",
              "      <td>-0.97</td>\n",
              "    </tr>\n",
              "    <tr>\n",
              "      <th>2017-08-25</th>\n",
              "      <td>166.32</td>\n",
              "      <td>167.74</td>\n",
              "      <td>-1.42</td>\n",
              "    </tr>\n",
              "    <tr>\n",
              "      <th>2017-08-28</th>\n",
              "      <td>167.24</td>\n",
              "      <td>166.32</td>\n",
              "      <td>0.92</td>\n",
              "    </tr>\n",
              "  </tbody>\n",
              "</table>\n",
              "</div>"
            ],
            "text/plain": [
              "             Price  Prev day Price  Price Change\n",
              "Date                                            \n",
              "2017-08-15  171.00             NaN           NaN\n",
              "2017-08-16  170.00          171.00         -1.00\n",
              "2017-08-17  166.91          170.00         -3.09\n",
              "2017-08-18  167.41          166.91          0.50\n",
              "2017-08-21  167.78          167.41          0.37\n",
              "2017-08-22  169.64          167.78          1.86\n",
              "2017-08-23  168.71          169.64         -0.93\n",
              "2017-08-24  167.74          168.71         -0.97\n",
              "2017-08-25  166.32          167.74         -1.42\n",
              "2017-08-28  167.24          166.32          0.92"
            ]
          },
          "metadata": {
            "tags": []
          },
          "execution_count": 20
        }
      ]
    }
  ]
}