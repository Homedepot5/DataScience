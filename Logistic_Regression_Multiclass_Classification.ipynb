{
  "nbformat": 4,
  "nbformat_minor": 0,
  "metadata": {
    "colab": {
      "name": "Logistic Regression: Multiclass Classification.ipynb",
      "provenance": [],
      "authorship_tag": "ABX9TyOw/IE6b4TOCqFwsKSqcTCC",
      "include_colab_link": true
    },
    "kernelspec": {
      "name": "python3",
      "display_name": "Python 3"
    }
  },
  "cells": [
    {
      "cell_type": "markdown",
      "metadata": {
        "id": "view-in-github",
        "colab_type": "text"
      },
      "source": [
        "<a href=\"https://colab.research.google.com/github/Homedepot5/DataScience/blob/origin%2Ffeature%2Fdevelopment/Logistic_Regression_Multiclass_Classification.ipynb\" target=\"_parent\"><img src=\"https://colab.research.google.com/assets/colab-badge.svg\" alt=\"Open In Colab\"/></a>"
      ]
    },
    {
      "cell_type": "code",
      "metadata": {
        "id": "ITdDbCh7r_qA",
        "colab_type": "code",
        "colab": {}
      },
      "source": [
        "from sklearn.datasets import load_digits\n",
        "%matplotlib inline\n",
        "import matplotlib.pyplot as plt\n"
      ],
      "execution_count": 3,
      "outputs": []
    },
    {
      "cell_type": "code",
      "metadata": {
        "id": "Gtxhz1fxtK1D",
        "colab_type": "code",
        "colab": {}
      },
      "source": [
        "digits = load_digits()\n",
        "digits"
      ],
      "execution_count": null,
      "outputs": []
    },
    {
      "cell_type": "code",
      "metadata": {
        "id": "MLglpKSktUZM",
        "colab_type": "code",
        "colab": {
          "base_uri": "https://localhost:8080/",
          "height": 34
        },
        "outputId": "a369c9f7-bf9e-4e92-cacf-00b86d62d5ba"
      },
      "source": [
        "dir(digits)"
      ],
      "execution_count": 5,
      "outputs": [
        {
          "output_type": "execute_result",
          "data": {
            "text/plain": [
              "['DESCR', 'data', 'images', 'target', 'target_names']"
            ]
          },
          "metadata": {
            "tags": []
          },
          "execution_count": 5
        }
      ]
    },
    {
      "cell_type": "code",
      "metadata": {
        "id": "EB76rWjmuBNe",
        "colab_type": "code",
        "colab": {
          "base_uri": "https://localhost:8080/",
          "height": 136
        },
        "outputId": "d6230ee4-3a4c-401d-9349-ab4f74d610af"
      },
      "source": [
        "digits.data"
      ],
      "execution_count": 22,
      "outputs": [
        {
          "output_type": "execute_result",
          "data": {
            "text/plain": [
              "array([[ 0.,  0.,  5., ...,  0.,  0.,  0.],\n",
              "       [ 0.,  0.,  0., ..., 10.,  0.,  0.],\n",
              "       [ 0.,  0.,  0., ..., 16.,  9.,  0.],\n",
              "       ...,\n",
              "       [ 0.,  0.,  1., ...,  6.,  0.,  0.],\n",
              "       [ 0.,  0.,  2., ..., 12.,  0.,  0.],\n",
              "       [ 0.,  0., 10., ..., 12.,  1.,  0.]])"
            ]
          },
          "metadata": {
            "tags": []
          },
          "execution_count": 22
        }
      ]
    },
    {
      "cell_type": "code",
      "metadata": {
        "id": "wbMPYTotuPJz",
        "colab_type": "code",
        "colab": {
          "base_uri": "https://localhost:8080/",
          "height": 102
        },
        "outputId": "1c2b2035-847d-44cf-a780-74add0b782d1"
      },
      "source": [
        "digits.data[0]"
      ],
      "execution_count": 23,
      "outputs": [
        {
          "output_type": "execute_result",
          "data": {
            "text/plain": [
              "array([ 0.,  0.,  5., 13.,  9.,  1.,  0.,  0.,  0.,  0., 13., 15., 10.,\n",
              "       15.,  5.,  0.,  0.,  3., 15.,  2.,  0., 11.,  8.,  0.,  0.,  4.,\n",
              "       12.,  0.,  0.,  8.,  8.,  0.,  0.,  5.,  8.,  0.,  0.,  9.,  8.,\n",
              "        0.,  0.,  4., 11.,  0.,  1., 12.,  7.,  0.,  0.,  2., 14.,  5.,\n",
              "       10., 12.,  0.,  0.,  0.,  0.,  6., 13., 10.,  0.,  0.,  0.])"
            ]
          },
          "metadata": {
            "tags": []
          },
          "execution_count": 23
        }
      ]
    },
    {
      "cell_type": "code",
      "metadata": {
        "id": "h3BGQ8S9uaki",
        "colab_type": "code",
        "colab": {
          "base_uri": "https://localhost:8080/",
          "height": 153
        },
        "outputId": "d7fb68f3-9b34-44ce-82d3-f7c062d3d800"
      },
      "source": [
        "digits.images[0]"
      ],
      "execution_count": 24,
      "outputs": [
        {
          "output_type": "execute_result",
          "data": {
            "text/plain": [
              "array([[ 0.,  0.,  5., 13.,  9.,  1.,  0.,  0.],\n",
              "       [ 0.,  0., 13., 15., 10., 15.,  5.,  0.],\n",
              "       [ 0.,  3., 15.,  2.,  0., 11.,  8.,  0.],\n",
              "       [ 0.,  4., 12.,  0.,  0.,  8.,  8.,  0.],\n",
              "       [ 0.,  5.,  8.,  0.,  0.,  9.,  8.,  0.],\n",
              "       [ 0.,  4., 11.,  0.,  1., 12.,  7.,  0.],\n",
              "       [ 0.,  2., 14.,  5., 10., 12.,  0.,  0.],\n",
              "       [ 0.,  0.,  6., 13., 10.,  0.,  0.,  0.]])"
            ]
          },
          "metadata": {
            "tags": []
          },
          "execution_count": 24
        }
      ]
    },
    {
      "cell_type": "code",
      "metadata": {
        "id": "KoClfPO8vfkH",
        "colab_type": "code",
        "colab": {
          "base_uri": "https://localhost:8080/",
          "height": 1000
        },
        "outputId": "76d12c27-b468-4b5a-f8b7-00d5fcca7faa"
      },
      "source": [
        "plt.gray()\n",
        "for i in range(5):\n",
        "  plt.matshow(digits.images[i])"
      ],
      "execution_count": 25,
      "outputs": [
        {
          "output_type": "display_data",
          "data": {
            "text/plain": [
              "<Figure size 432x288 with 0 Axes>"
            ]
          },
          "metadata": {
            "tags": []
          }
        },
        {
          "output_type": "display_data",
          "data": {
            "image/png": "[encoded data removed]",
            "text/plain": [
              "<Figure size 288x288 with 1 Axes>"
            ]
          },
          "metadata": {
            "tags": [],
            "needs_background": "light"
          }
        },
        {
          "output_type": "display_data",
          "data": {
            "image/png": "[encoded data removed]",
            "text/plain": [
              "<Figure size 288x288 with 1 Axes>"
            ]
          },
          "metadata": {
            "tags": [],
            "needs_background": "light"
          }
        },
        {
          "output_type": "display_data",
          "data": {
            "image/png": "[encoded data removed]",
            "text/plain": [
              "<Figure size 288x288 with 1 Axes>"
            ]
          },
          "metadata": {
            "tags": [],
            "needs_background": "light"
          }
        },
        {
          "output_type": "display_data",
          "data": {
            "image/png": "[encoded data removed]",
            "text/plain": [
              "<Figure size 288x288 with 1 Axes>"
            ]
          },
          "metadata": {
            "tags": [],
            "needs_background": "light"
          }
        },
        {
          "output_type": "display_data",
          "data": {
            "image/png": "[encoded data removed]",
            "text/plain": [
              "<Figure size 288x288 with 1 Axes>"
            ]
          },
          "metadata": {
            "tags": [],
            "needs_background": "light"
          }
        }
      ]
    },
    {
      "cell_type": "code",
      "metadata": {
        "id": "X3ON5hlCwgDA",
        "colab_type": "code",
        "colab": {
          "base_uri": "https://localhost:8080/",
          "height": 34
        },
        "outputId": "98e806e0-0d0f-4618-95db-e5f09620a4c6"
      },
      "source": [
        "digits.target[0:5]"
      ],
      "execution_count": 27,
      "outputs": [
        {
          "output_type": "execute_result",
          "data": {
            "text/plain": [
              "array([0, 1, 2, 3, 4])"
            ]
          },
          "metadata": {
            "tags": []
          },
          "execution_count": 27
        }
      ]
    },
    {
      "cell_type": "code",
      "metadata": {
        "id": "MhHP_MLxxWEX",
        "colab_type": "code",
        "colab": {}
      },
      "source": [
        "from sklearn.model_selection import train_test_split\n",
        "X_train, X_test, y_train, y_test = train_test_split(digits.data,digits.target,test_size=0.3)"
      ],
      "execution_count": 58,
      "outputs": []
    },
    {
      "cell_type": "code",
      "metadata": {
        "id": "Mdj2m7EAzHEC",
        "colab_type": "code",
        "colab": {}
      },
      "source": [
        "from sklearn.linear_model import LogisticRegression\n",
        "model=LogisticRegression()\n"
      ],
      "execution_count": 59,
      "outputs": []
    },
    {
      "cell_type": "code",
      "metadata": {
        "id": "d2J8xrhizU29",
        "colab_type": "code",
        "colab": {
          "base_uri": "https://localhost:8080/",
          "height": 258
        },
        "outputId": "cbbcd793-1288-4e5d-955a-a35210dc61ba"
      },
      "source": [
        "model.fit(X_train,y_train)"
      ],
      "execution_count": 60,
      "outputs": [
        {
          "output_type": "stream",
          "text": [
            "/usr/local/lib/python3.6/dist-packages/sklearn/linear_model/_logistic.py:940: ConvergenceWarning: lbfgs failed to converge (status=1):\n",
            "STOP: TOTAL NO. of ITERATIONS REACHED LIMIT.\n",
            "\n",
            "Increase the number of iterations (max_iter) or scale the data as shown in:\n",
            "    https://scikit-learn.org/stable/modules/preprocessing.html\n",
            "Please also refer to the documentation for alternative solver options:\n",
            "    https://scikit-learn.org/stable/modules/linear_model.html#logistic-regression\n",
            "  extra_warning_msg=_LOGISTIC_SOLVER_CONVERGENCE_MSG)\n"
          ],
          "name": "stderr"
        },
        {
          "output_type": "execute_result",
          "data": {
            "text/plain": [
              "LogisticRegression(C=1.0, class_weight=None, dual=False, fit_intercept=True,\n",
              "                   intercept_scaling=1, l1_ratio=None, max_iter=100,\n",
              "                   multi_class='auto', n_jobs=None, penalty='l2',\n",
              "                   random_state=None, solver='lbfgs', tol=0.0001, verbose=0,\n",
              "                   warm_start=False)"
            ]
          },
          "metadata": {
            "tags": []
          },
          "execution_count": 60
        }
      ]
    },
    {
      "cell_type": "code",
      "metadata": {
        "id": "bmsM-hdC3hu1",
        "colab_type": "code",
        "colab": {
          "base_uri": "https://localhost:8080/",
          "height": 34
        },
        "outputId": "eb095e9f-f18c-443d-edf1-799607f1d48a"
      },
      "source": [
        "X_train.shape"
      ],
      "execution_count": 62,
      "outputs": [
        {
          "output_type": "execute_result",
          "data": {
            "text/plain": [
              "(1257, 64)"
            ]
          },
          "metadata": {
            "tags": []
          },
          "execution_count": 62
        }
      ]
    },
    {
      "cell_type": "code",
      "metadata": {
        "id": "6AMPZNC23mzi",
        "colab_type": "code",
        "colab": {
          "base_uri": "https://localhost:8080/",
          "height": 34
        },
        "outputId": "fb122011-0b56-4460-fe61-542476479767"
      },
      "source": [
        "y_train.shape"
      ],
      "execution_count": 63,
      "outputs": [
        {
          "output_type": "execute_result",
          "data": {
            "text/plain": [
              "(1257,)"
            ]
          },
          "metadata": {
            "tags": []
          },
          "execution_count": 63
        }
      ]
    },
    {
      "cell_type": "code",
      "metadata": {
        "id": "fBaCMGQB3xpd",
        "colab_type": "code",
        "colab": {
          "base_uri": "https://localhost:8080/",
          "height": 34
        },
        "outputId": "55269fb1-0149-4315-d7c9-93ed548174f5"
      },
      "source": [
        "X_test.shape"
      ],
      "execution_count": 64,
      "outputs": [
        {
          "output_type": "execute_result",
          "data": {
            "text/plain": [
              "(540, 64)"
            ]
          },
          "metadata": {
            "tags": []
          },
          "execution_count": 64
        }
      ]
    },
    {
      "cell_type": "code",
      "metadata": {
        "id": "lM9bFyXk30SI",
        "colab_type": "code",
        "colab": {
          "base_uri": "https://localhost:8080/",
          "height": 34
        },
        "outputId": "bd454b9d-66b4-47a4-ed30-cdc4c12a2c1e"
      },
      "source": [
        "y_test.shape"
      ],
      "execution_count": 65,
      "outputs": [
        {
          "output_type": "execute_result",
          "data": {
            "text/plain": [
              "(540,)"
            ]
          },
          "metadata": {
            "tags": []
          },
          "execution_count": 65
        }
      ]
    },
    {
      "cell_type": "code",
      "metadata": {
        "id": "q0OoVNBj57KR",
        "colab_type": "code",
        "colab": {
          "base_uri": "https://localhost:8080/",
          "height": 102
        },
        "outputId": "f6008b9c-014e-407f-aa3f-825cbdead4ee"
      },
      "source": [
        "X_train[0]\n"
      ],
      "execution_count": 68,
      "outputs": [
        {
          "output_type": "execute_result",
          "data": {
            "text/plain": [
              "array([ 0.,  0.,  0.,  2., 15.,  4.,  0.,  0.,  0.,  0.,  0.,  8., 15.,\n",
              "        1.,  0.,  0.,  0.,  0.,  1., 14., 12.,  0.,  0.,  0.,  0.,  0.,\n",
              "        6., 16., 12.,  0.,  0.,  0.,  0.,  0., 13., 16., 15.,  4.,  2.,\n",
              "        0.,  0.,  9., 16., 16., 16., 16., 11.,  0.,  0.,  3.,  8.,  8.,\n",
              "       16.,  3.,  0.,  0.,  0.,  0.,  0.,  3., 15.,  0.,  0.,  0.])"
            ]
          },
          "metadata": {
            "tags": []
          },
          "execution_count": 68
        }
      ]
    },
    {
      "cell_type": "code",
      "metadata": {
        "id": "zbYnvkJ85--k",
        "colab_type": "code",
        "colab": {
          "base_uri": "https://localhost:8080/",
          "height": 34
        },
        "outputId": "0b071c24-c857-4ee5-c4a3-ab52104004d5"
      },
      "source": [
        "y_train[0]"
      ],
      "execution_count": 69,
      "outputs": [
        {
          "output_type": "execute_result",
          "data": {
            "text/plain": [
              "4"
            ]
          },
          "metadata": {
            "tags": []
          },
          "execution_count": 69
        }
      ]
    },
    {
      "cell_type": "code",
      "metadata": {
        "id": "h0_1dWPE6TVD",
        "colab_type": "code",
        "colab": {
          "base_uri": "https://localhost:8080/",
          "height": 34
        },
        "outputId": "72522812-0346-47b7-d859-2681d4a55926"
      },
      "source": [
        "model.score(X_test,y_test)"
      ],
      "execution_count": 71,
      "outputs": [
        {
          "output_type": "execute_result",
          "data": {
            "text/plain": [
              "0.9685185185185186"
            ]
          },
          "metadata": {
            "tags": []
          },
          "execution_count": 71
        }
      ]
    },
    {
      "cell_type": "code",
      "metadata": {
        "id": "M41fCTLl6yIc",
        "colab_type": "code",
        "colab": {
          "base_uri": "https://localhost:8080/",
          "height": 34
        },
        "outputId": "1b3736ae-fba0-4327-acd0-755f2576f89d"
      },
      "source": [
        "model.predict([digits.data[67]])"
      ],
      "execution_count": 75,
      "outputs": [
        {
          "output_type": "execute_result",
          "data": {
            "text/plain": [
              "array([6])"
            ]
          },
          "metadata": {
            "tags": []
          },
          "execution_count": 75
        }
      ]
    },
    {
      "cell_type": "code",
      "metadata": {
        "id": "asjOF7XU9TYg",
        "colab_type": "code",
        "colab": {
          "base_uri": "https://localhost:8080/",
          "height": 34
        },
        "outputId": "d5b09aba-418d-46c9-85c3-3705f662817f"
      },
      "source": [
        "model.predict([X_test[7]])"
      ],
      "execution_count": 92,
      "outputs": [
        {
          "output_type": "execute_result",
          "data": {
            "text/plain": [
              "array([5])"
            ]
          },
          "metadata": {
            "tags": []
          },
          "execution_count": 92
        }
      ]
    },
    {
      "cell_type": "code",
      "metadata": {
        "id": "iczVxRZ_7bPc",
        "colab_type": "code",
        "colab": {
          "base_uri": "https://localhost:8080/",
          "height": 102
        },
        "outputId": "b67b9046-a698-458e-c936-efeeb575f0fc"
      },
      "source": [
        "digits.data[67]"
      ],
      "execution_count": 76,
      "outputs": [
        {
          "output_type": "execute_result",
          "data": {
            "text/plain": [
              "array([ 0.,  0.,  5., 14.,  0.,  0.,  0.,  0.,  0.,  0., 12.,  9.,  0.,\n",
              "        0.,  0.,  0.,  0.,  0., 15.,  3.,  0.,  0.,  0.,  0.,  0.,  1.,\n",
              "       16.,  0.,  0.,  0.,  0.,  0.,  0.,  1., 16.,  2.,  7.,  4.,  0.,\n",
              "        0.,  0.,  3., 16., 16., 16., 16.,  9.,  0.,  0.,  0., 15., 15.,\n",
              "        4., 10., 16.,  0.,  0.,  0.,  4., 14., 16., 12.,  7.,  0.])"
            ]
          },
          "metadata": {
            "tags": []
          },
          "execution_count": 76
        }
      ]
    },
    {
      "cell_type": "code",
      "metadata": {
        "id": "eIsBiEF77kRP",
        "colab_type": "code",
        "colab": {
          "base_uri": "https://localhost:8080/",
          "height": 292
        },
        "outputId": "d3c91131-119c-44f2-b583-dfb88e9bee9f"
      },
      "source": [
        "plt.matshow(digits.images[7])"
      ],
      "execution_count": 93,
      "outputs": [
        {
          "output_type": "execute_result",
          "data": {
            "text/plain": [
              "<matplotlib.image.AxesImage at 0x7f14c3fa6630>"
            ]
          },
          "metadata": {
            "tags": []
          },
          "execution_count": 93
        },
        {
          "output_type": "display_data",
          "data": {
            "image/png": "[encoded data removed]",
            "text/plain": [
              "<Figure size 288x288 with 1 Axes>"
            ]
          },
          "metadata": {
            "tags": [],
            "needs_background": "light"
          }
        }
      ]
    },
    {
      "cell_type": "code",
      "metadata": {
        "id": "7dj8FkKm74gm",
        "colab_type": "code",
        "colab": {
          "base_uri": "https://localhost:8080/",
          "height": 34
        },
        "outputId": "54a800a5-c89b-4599-a2a0-ac63c46fed6c"
      },
      "source": [
        "model.predict(digits.data[0:5])"
      ],
      "execution_count": 79,
      "outputs": [
        {
          "output_type": "execute_result",
          "data": {
            "text/plain": [
              "array([0, 1, 2, 3, 4])"
            ]
          },
          "metadata": {
            "tags": []
          },
          "execution_count": 79
        }
      ]
    },
    {
      "cell_type": "code",
      "metadata": {
        "id": "KJhSf5lj8FNa",
        "colab_type": "code",
        "colab": {
          "base_uri": "https://localhost:8080/",
          "height": 442
        },
        "outputId": "e99b58fd-e7af-465a-e8c5-f7322866324d"
      },
      "source": [
        "y_predicated=model.predict(X_test)\n",
        "y_predicated\n"
      ],
      "execution_count": 96,
      "outputs": [
        {
          "output_type": "execute_result",
          "data": {
            "text/plain": [
              "array([9, 9, 5, 8, 6, 1, 6, 5, 3, 3, 3, 1, 1, 5, 8, 8, 4, 7, 3, 7, 8, 8,\n",
              "       3, 2, 1, 0, 0, 1, 1, 1, 9, 6, 2, 7, 0, 0, 1, 5, 6, 6, 7, 0, 4, 0,\n",
              "       0, 4, 7, 8, 7, 0, 5, 4, 3, 6, 7, 8, 9, 9, 2, 0, 9, 5, 8, 3, 6, 7,\n",
              "       6, 3, 7, 2, 4, 9, 4, 1, 1, 6, 2, 3, 8, 4, 9, 5, 3, 1, 0, 6, 3, 4,\n",
              "       6, 4, 8, 8, 7, 6, 1, 0, 3, 3, 2, 1, 6, 3, 2, 3, 8, 2, 6, 6, 5, 8,\n",
              "       8, 9, 6, 6, 0, 4, 6, 9, 9, 1, 9, 2, 2, 4, 9, 8, 9, 1, 3, 3, 2, 2,\n",
              "       5, 4, 7, 1, 8, 7, 1, 6, 9, 1, 4, 5, 0, 4, 6, 0, 3, 7, 1, 9, 9, 6,\n",
              "       6, 8, 1, 3, 8, 2, 3, 2, 6, 8, 3, 1, 5, 4, 6, 0, 8, 8, 4, 8, 6, 3,\n",
              "       4, 1, 3, 5, 0, 8, 2, 9, 8, 9, 6, 3, 7, 6, 2, 7, 5, 4, 9, 4, 2, 6,\n",
              "       8, 8, 3, 4, 3, 5, 8, 4, 6, 0, 8, 4, 0, 7, 4, 2, 2, 3, 2, 2, 1, 2,\n",
              "       8, 2, 9, 3, 6, 0, 8, 6, 7, 9, 6, 3, 2, 6, 7, 6, 0, 6, 8, 1, 8, 0,\n",
              "       9, 4, 5, 7, 5, 8, 5, 4, 9, 8, 1, 4, 4, 1, 6, 7, 7, 0, 6, 4, 5, 3,\n",
              "       6, 8, 3, 0, 5, 1, 6, 0, 1, 6, 7, 3, 2, 4, 2, 0, 5, 1, 7, 0, 1, 4,\n",
              "       9, 4, 7, 8, 5, 5, 4, 4, 0, 2, 1, 3, 9, 3, 9, 8, 1, 5, 9, 9, 6, 2,\n",
              "       5, 4, 9, 5, 0, 9, 0, 1, 7, 4, 4, 2, 2, 4, 0, 6, 1, 7, 2, 1, 7, 5,\n",
              "       3, 3, 3, 3, 4, 4, 0, 1, 9, 0, 3, 2, 6, 0, 1, 9, 3, 2, 4, 1, 7, 4,\n",
              "       2, 9, 5, 5, 6, 5, 9, 7, 0, 0, 8, 4, 3, 0, 0, 7, 1, 5, 6, 5, 8, 5,\n",
              "       3, 1, 6, 0, 8, 9, 2, 9, 0, 7, 7, 5, 2, 3, 7, 9, 7, 5, 8, 0, 5, 4,\n",
              "       5, 5, 8, 9, 0, 9, 7, 0, 9, 5, 3, 2, 5, 6, 4, 2, 5, 3, 1, 7, 4, 5,\n",
              "       7, 8, 3, 3, 8, 3, 6, 1, 1, 8, 7, 1, 0, 6, 0, 7, 6, 5, 7, 3, 8, 4,\n",
              "       0, 0, 9, 0, 4, 5, 9, 4, 9, 8, 1, 4, 4, 2, 1, 6, 6, 9, 3, 8, 0, 4,\n",
              "       5, 6, 3, 6, 2, 1, 2, 3, 9, 1, 5, 0, 1, 3, 6, 9, 5, 2, 3, 8, 1, 2,\n",
              "       2, 8, 1, 0, 5, 1, 1, 2, 7, 9, 1, 5, 5, 4, 9, 2, 1, 3, 0, 8, 4, 7,\n",
              "       3, 4, 1, 1, 6, 9, 9, 7, 6, 7, 9, 3, 5, 3, 5, 8, 9, 4, 3, 5, 1, 9,\n",
              "       4, 8, 9, 0, 6, 5, 5, 0, 3, 0, 8, 7])"
            ]
          },
          "metadata": {
            "tags": []
          },
          "execution_count": 96
        }
      ]
    },
    {
      "cell_type": "code",
      "metadata": {
        "id": "oxi1ikXV-enN",
        "colab_type": "code",
        "colab": {
          "base_uri": "https://localhost:8080/",
          "height": 187
        },
        "outputId": "9f8066c4-bf2e-405d-e951-d15ad19b92c9"
      },
      "source": [
        "from sklearn.metrics import confusion_matrix\n",
        "cm=confusion_matrix(y_test,y_predicated)\n",
        "cm"
      ],
      "execution_count": 97,
      "outputs": [
        {
          "output_type": "execute_result",
          "data": {
            "text/plain": [
              "array([[54,  0,  0,  0,  0,  0,  0,  0,  0,  0],\n",
              "       [ 0, 54,  0,  0,  0,  0,  0,  0,  2,  1],\n",
              "       [ 0,  0, 46,  0,  0,  0,  0,  0,  0,  0],\n",
              "       [ 0,  0,  0, 59,  0,  0,  0,  0,  0,  0],\n",
              "       [ 0,  1,  0,  0, 55,  0,  0,  0,  0,  0],\n",
              "       [ 0,  0,  0,  1,  0, 50,  0,  0,  0,  0],\n",
              "       [ 0,  1,  0,  0,  0,  0, 58,  0,  0,  0],\n",
              "       [ 0,  0,  0,  0,  0,  0,  0, 43,  0,  0],\n",
              "       [ 0,  2,  0,  0,  1,  3,  0,  2, 50,  0],\n",
              "       [ 0,  0,  0,  0,  0,  1,  0,  0,  2, 54]])"
            ]
          },
          "metadata": {
            "tags": []
          },
          "execution_count": 97
        }
      ]
    },
    {
      "cell_type": "code",
      "metadata": {
        "id": "C_vzLrNC-zcg",
        "colab_type": "code",
        "colab": {
          "base_uri": "https://localhost:8080/",
          "height": 513
        },
        "outputId": "385c30bf-5351-4f2e-b34d-574627a3c96a"
      },
      "source": [
        "import seaborn as sn\n",
        "plt.figure(figsize = (10,7))\n",
        "sn.heatmap(cm, annot=True)\n",
        "plt.xlabel('Predicted')\n",
        "plt.ylabel('Truth')"
      ],
      "execution_count": 98,
      "outputs": [
        {
          "output_type": "stream",
          "text": [
            "/usr/local/lib/python3.6/dist-packages/statsmodels/tools/_testing.py:19: FutureWarning: pandas.util.testing is deprecated. Use the functions in the public API at pandas.testing instead.\n",
            "  import pandas.util.testing as tm\n"
          ],
          "name": "stderr"
        },
        {
          "output_type": "execute_result",
          "data": {
            "text/plain": [
              "Text(69.0, 0.5, 'Truth')"
            ]
          },
          "metadata": {
            "tags": []
          },
          "execution_count": 98
        },
        {
          "output_type": "display_data",
          "data": {
            "image/png": "[encoded data removed]",
            "text/plain": [
              "<Figure size 720x504 with 2 Axes>"
            ]
          },
          "metadata": {
            "tags": [],
            "needs_background": "light"
          }
        }
      ]
    }
  ]
}