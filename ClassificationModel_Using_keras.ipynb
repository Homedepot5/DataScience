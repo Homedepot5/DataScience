{
  "nbformat": 4,
  "nbformat_minor": 0,
  "metadata": {
    "colab": {
      "name": "ClassificationModel_Using_keras.ipynb",
      "provenance": [],
      "authorship_tag": "ABX9TyMol6byJv3uFw5u2wJMVnx+",
      "include_colab_link": true
    },
    "kernelspec": {
      "name": "python3",
      "display_name": "Python 3"
    }
  },
  "cells": [
    {
      "cell_type": "markdown",
      "metadata": {
        "id": "view-in-github",
        "colab_type": "text"
      },
      "source": [
        "<a href=\"https://colab.research.google.com/github/Homedepot5/DataScience/blob/origin%2Ffeature%2Fdevelopment/ClassificationModel_Using_keras.ipynb\" target=\"_parent\"><img src=\"https://colab.research.google.com/assets/colab-badge.svg\" alt=\"Open In Colab\"/></a>"
      ]
    },
    {
      "cell_type": "code",
      "metadata": {
        "id": "qAo7d8pClcmV",
        "colab_type": "code",
        "colab": {}
      },
      "source": [
        "%tensorflow_version 2.x"
      ],
      "execution_count": null,
      "outputs": []
    },
    {
      "cell_type": "code",
      "metadata": {
        "id": "DjswoFlbmDqq",
        "colab_type": "code",
        "colab": {}
      },
      "source": [
        "from __future__ import absolute_import, division, print_function, unicode_literals\n",
        "\n",
        "\n",
        "import tensorflow as tf\n",
        "\n",
        "import pandas as pd"
      ],
      "execution_count": null,
      "outputs": []
    },
    {
      "cell_type": "code",
      "metadata": {
        "id": "d2crf4pnmSuk",
        "colab_type": "code",
        "colab": {}
      },
      "source": [
        "CSV_COLUMN_NAMES = ['SepalLength', 'SepalWidth', 'PetalLength', 'PetalWidth', 'Species']\n",
        "SPECIES = ['Setosa', 'Versicolor', 'Virginica']\n",
        "# Lets define some constants to help us later on"
      ],
      "execution_count": null,
      "outputs": []
    },
    {
      "cell_type": "code",
      "metadata": {
        "id": "n4ebOpvFmMGO",
        "colab_type": "code",
        "colab": {}
      },
      "source": [
        "train_path = tf.keras.utils.get_file(\n",
        "    \"iris_training.csv\", \"https://storage.googleapis.com/download.tensorflow.org/data/iris_training.csv\")\n",
        "test_path = tf.keras.utils.get_file(\n",
        "    \"iris_test.csv\", \"https://storage.googleapis.com/download.tensorflow.org/data/iris_test.csv\")\n",
        "\n",
        "train = pd.read_csv(train_path, names=CSV_COLUMN_NAMES, header=0)\n",
        "test = pd.read_csv(test_path, names=CSV_COLUMN_NAMES, header=0)\n",
        "# Here we use keras (a module inside of TensorFlow) to grab our datasets and read them into a pandas dataframe"
      ],
      "execution_count": null,
      "outputs": []
    },
    {
      "cell_type": "code",
      "metadata": {
        "id": "AQ5tIhnam4Az",
        "colab_type": "code",
        "colab": {
          "base_uri": "https://localhost:8080/",
          "height": 204
        },
        "outputId": "34029831-bd7a-4d73-ca4d-e65de67fdf4c"
      },
      "source": [
        "train.head()"
      ],
      "execution_count": null,
      "outputs": [
        {
          "output_type": "execute_result",
          "data": {
            "text/html": [
              "<div>\n",
              "<style scoped>\n",
              "    .dataframe tbody tr th:only-of-type {\n",
              "        vertical-align: middle;\n",
              "    }\n",
              "\n",
              "    .dataframe tbody tr th {\n",
              "        vertical-align: top;\n",
              "    }\n",
              "\n",
              "    .dataframe thead th {\n",
              "        text-align: right;\n",
              "    }\n",
              "</style>\n",
              "<table border=\"1\" class=\"dataframe\">\n",
              "  <thead>\n",
              "    <tr style=\"text-align: right;\">\n",
              "      <th></th>\n",
              "      <th>SepalLength</th>\n",
              "      <th>SepalWidth</th>\n",
              "      <th>PetalLength</th>\n",
              "      <th>PetalWidth</th>\n",
              "      <th>Species</th>\n",
              "    </tr>\n",
              "  </thead>\n",
              "  <tbody>\n",
              "    <tr>\n",
              "      <th>0</th>\n",
              "      <td>6.4</td>\n",
              "      <td>2.8</td>\n",
              "      <td>5.6</td>\n",
              "      <td>2.2</td>\n",
              "      <td>2</td>\n",
              "    </tr>\n",
              "    <tr>\n",
              "      <th>1</th>\n",
              "      <td>5.0</td>\n",
              "      <td>2.3</td>\n",
              "      <td>3.3</td>\n",
              "      <td>1.0</td>\n",
              "      <td>1</td>\n",
              "    </tr>\n",
              "    <tr>\n",
              "      <th>2</th>\n",
              "      <td>4.9</td>\n",
              "      <td>2.5</td>\n",
              "      <td>4.5</td>\n",
              "      <td>1.7</td>\n",
              "      <td>2</td>\n",
              "    </tr>\n",
              "    <tr>\n",
              "      <th>3</th>\n",
              "      <td>4.9</td>\n",
              "      <td>3.1</td>\n",
              "      <td>1.5</td>\n",
              "      <td>0.1</td>\n",
              "      <td>0</td>\n",
              "    </tr>\n",
              "    <tr>\n",
              "      <th>4</th>\n",
              "      <td>5.7</td>\n",
              "      <td>3.8</td>\n",
              "      <td>1.7</td>\n",
              "      <td>0.3</td>\n",
              "      <td>0</td>\n",
              "    </tr>\n",
              "  </tbody>\n",
              "</table>\n",
              "</div>"
            ],
            "text/plain": [
              "   SepalLength  SepalWidth  PetalLength  PetalWidth  Species\n",
              "0          6.4         2.8          5.6         2.2        2\n",
              "1          5.0         2.3          3.3         1.0        1\n",
              "2          4.9         2.5          4.5         1.7        2\n",
              "3          4.9         3.1          1.5         0.1        0\n",
              "4          5.7         3.8          1.7         0.3        0"
            ]
          },
          "metadata": {
            "tags": []
          },
          "execution_count": 26
        }
      ]
    },
    {
      "cell_type": "code",
      "metadata": {
        "id": "5ApG_Oh-ngFm",
        "colab_type": "code",
        "colab": {
          "base_uri": "https://localhost:8080/",
          "height": 204
        },
        "outputId": "6606ab2f-aca6-4ea3-8153-8e63a976aac9"
      },
      "source": [
        "train_y=train.pop('Species')\n",
        "test_y=test.pop('Species')\n",
        "train.head()"
      ],
      "execution_count": null,
      "outputs": [
        {
          "output_type": "execute_result",
          "data": {
            "text/html": [
              "<div>\n",
              "<style scoped>\n",
              "    .dataframe tbody tr th:only-of-type {\n",
              "        vertical-align: middle;\n",
              "    }\n",
              "\n",
              "    .dataframe tbody tr th {\n",
              "        vertical-align: top;\n",
              "    }\n",
              "\n",
              "    .dataframe thead th {\n",
              "        text-align: right;\n",
              "    }\n",
              "</style>\n",
              "<table border=\"1\" class=\"dataframe\">\n",
              "  <thead>\n",
              "    <tr style=\"text-align: right;\">\n",
              "      <th></th>\n",
              "      <th>SepalLength</th>\n",
              "      <th>SepalWidth</th>\n",
              "      <th>PetalLength</th>\n",
              "      <th>PetalWidth</th>\n",
              "    </tr>\n",
              "  </thead>\n",
              "  <tbody>\n",
              "    <tr>\n",
              "      <th>0</th>\n",
              "      <td>6.4</td>\n",
              "      <td>2.8</td>\n",
              "      <td>5.6</td>\n",
              "      <td>2.2</td>\n",
              "    </tr>\n",
              "    <tr>\n",
              "      <th>1</th>\n",
              "      <td>5.0</td>\n",
              "      <td>2.3</td>\n",
              "      <td>3.3</td>\n",
              "      <td>1.0</td>\n",
              "    </tr>\n",
              "    <tr>\n",
              "      <th>2</th>\n",
              "      <td>4.9</td>\n",
              "      <td>2.5</td>\n",
              "      <td>4.5</td>\n",
              "      <td>1.7</td>\n",
              "    </tr>\n",
              "    <tr>\n",
              "      <th>3</th>\n",
              "      <td>4.9</td>\n",
              "      <td>3.1</td>\n",
              "      <td>1.5</td>\n",
              "      <td>0.1</td>\n",
              "    </tr>\n",
              "    <tr>\n",
              "      <th>4</th>\n",
              "      <td>5.7</td>\n",
              "      <td>3.8</td>\n",
              "      <td>1.7</td>\n",
              "      <td>0.3</td>\n",
              "    </tr>\n",
              "  </tbody>\n",
              "</table>\n",
              "</div>"
            ],
            "text/plain": [
              "   SepalLength  SepalWidth  PetalLength  PetalWidth\n",
              "0          6.4         2.8          5.6         2.2\n",
              "1          5.0         2.3          3.3         1.0\n",
              "2          4.9         2.5          4.5         1.7\n",
              "3          4.9         3.1          1.5         0.1\n",
              "4          5.7         3.8          1.7         0.3"
            ]
          },
          "metadata": {
            "tags": []
          },
          "execution_count": 27
        }
      ]
    },
    {
      "cell_type": "code",
      "metadata": {
        "id": "oq7FOJJVofyB",
        "colab_type": "code",
        "colab": {
          "base_uri": "https://localhost:8080/"
        },
        "outputId": "4576f49d-7ceb-4682-c8d1-00c664b2b251"
      },
      "source": [
        "y_train.head()"
      ],
      "execution_count": null,
      "outputs": [
        {
          "output_type": "execute_result",
          "data": {
            "text/plain": [
              "0    2\n",
              "1    1\n",
              "2    2\n",
              "3    0\n",
              "4    0\n",
              "Name: Species, dtype: int64"
            ]
          },
          "metadata": {
            "tags": []
          },
          "execution_count": 28
        }
      ]
    },
    {
      "cell_type": "code",
      "metadata": {
        "id": "8zNbVTPfpshS",
        "colab_type": "code",
        "colab": {
          "base_uri": "https://localhost:8080/",
          "height": 34
        },
        "outputId": "ebf626f5-29a7-4f85-807a-835bef567325"
      },
      "source": [
        "y_train.shape"
      ],
      "execution_count": null,
      "outputs": [
        {
          "output_type": "execute_result",
          "data": {
            "text/plain": [
              "(120,)"
            ]
          },
          "metadata": {
            "tags": []
          },
          "execution_count": 29
        }
      ]
    },
    {
      "cell_type": "code",
      "metadata": {
        "id": "qOasVTUNtYqT",
        "colab_type": "code",
        "colab": {}
      },
      "source": [
        "def input_fn(features, labels, training=True, batch_size=256):\n",
        "    # Convert the inputs to a Dataset.\n",
        "    dataset = tf.data.Dataset.from_tensor_slices((dict(features), labels))\n",
        "\n",
        "    # Shuffle and repeat if you are in training mode.\n",
        "    if training:\n",
        "        dataset = dataset.shuffle(1000).repeat()\n",
        "    \n",
        "    return dataset.batch(batch_size)"
      ],
      "execution_count": null,
      "outputs": []
    },
    {
      "cell_type": "code",
      "metadata": {
        "id": "SjbR4sKzwJrA",
        "colab_type": "code",
        "colab": {}
      },
      "source": [
        "my_feature_columns = []\n",
        "for key in train.keys():\n",
        "    my_feature_columns.append(tf.feature_column.numeric_column(key=key))\n",
        "print(my_feature_columns)"
      ],
      "execution_count": null,
      "outputs": []
    },
    {
      "cell_type": "code",
      "metadata": {
        "id": "YLe_cMdW1Wn5",
        "colab_type": "code",
        "colab": {
          "base_uri": "https://localhost:8080/",
          "height": 190
        },
        "outputId": "d2168254-b380-4472-ee03-7c5ae85c08d6"
      },
      "source": [
        "# Build a DNN with 2 hidden layers with 30 and 10 hidden nodes each.\n",
        "classifier = tf.estimator.DNNClassifier(\n",
        "    feature_columns=my_feature_columns,\n",
        "    # Two hidden layers of 30 and 10 nodes respectively.\n",
        "    hidden_units=[30, 10],\n",
        "    # The model must choose between 3 classes.\n",
        "    n_classes=3)"
      ],
      "execution_count": null,
      "outputs": [
        {
          "output_type": "stream",
          "text": [
            "INFO:tensorflow:Using default config.\n",
            "WARNING:tensorflow:Using temporary folder as model directory: /tmp/tmp3s1c_px7\n",
            "INFO:tensorflow:Using config: {'_model_dir': '/tmp/tmp3s1c_px7', '_tf_random_seed': None, '_save_summary_steps': 100, '_save_checkpoints_steps': None, '_save_checkpoints_secs': 600, '_session_config': allow_soft_placement: true\n",
            "graph_options {\n",
            "  rewrite_options {\n",
            "    meta_optimizer_iterations: ONE\n",
            "  }\n",
            "}\n",
            ", '_keep_checkpoint_max': 5, '_keep_checkpoint_every_n_hours': 10000, '_log_step_count_steps': 100, '_train_distribute': None, '_device_fn': None, '_protocol': None, '_eval_distribute': None, '_experimental_distribute': None, '_experimental_max_worker_delay_secs': None, '_session_creation_timeout_secs': 7200, '_service': None, '_cluster_spec': ClusterSpec({}), '_task_type': 'worker', '_task_id': 0, '_global_id_in_cluster': 0, '_master': '', '_evaluation_master': '', '_is_chief': True, '_num_ps_replicas': 0, '_num_worker_replicas': 1}\n"
          ],
          "name": "stdout"
        }
      ]
    },
    {
      "cell_type": "code",
      "metadata": {
        "id": "J4jiF4Mp2bht",
        "colab_type": "code",
        "colab": {}
      },
      "source": [
        "classifier.train(\n",
        "    input_fn=lambda: input_fn(train, train_y, training=True),\n",
        "    steps=5000)"
      ],
      "execution_count": null,
      "outputs": []
    },
    {
      "cell_type": "code",
      "metadata": {
        "id": "vd7leZt13Vpj",
        "colab_type": "code",
        "colab": {}
      },
      "source": [
        "eval_result = classifier.evaluate(\n",
        "    input_fn=lambda: input_fn(test, test_y, training=False))\n",
        "\n",
        "print('\\nTest set accuracy: {accuracy:0.3f}\\n'.format(**eval_result))"
      ],
      "execution_count": null,
      "outputs": []
    },
    {
      "cell_type": "code",
      "metadata": {
        "id": "hGXiab-35c8P",
        "colab_type": "code",
        "colab": {}
      },
      "source": [
        "def input_fn(features, batch_size=256):\n",
        "    # Convert the inputs to a Dataset without labels.\n",
        "    return tf.data.Dataset.from_tensor_slices(dict(features)).batch(batch_size)\n",
        "\n",
        "features = ['SepalLength', 'SepalWidth', 'PetalLength', 'PetalWidth']\n",
        "predict = {}\n",
        "\n",
        "print(\"Please type numeric values as prompted.\")\n",
        "for feature in features:\n",
        "  valid = True\n",
        "  while valid: \n",
        "    val = input(feature + \": \")\n",
        "    if not val.isdigit(): valid = False\n",
        "\n",
        "  predict[feature] = [float(val)]\n",
        "\n",
        "predictions = classifier.predict(input_fn=lambda: input_fn(predict))\n",
        "for pred_dict in predictions:\n",
        "    class_id = pred_dict['class_ids'][0]\n",
        "    probability = pred_dict['probabilities'][class_id]\n",
        "\n",
        "    print('Prediction is \"{}\" ({:.1f}%)'.format(\n",
        "        SPECIES[class_id], 100 * probability))\n"
      ],
      "execution_count": null,
      "outputs": []
    },
    {
      "cell_type": "markdown",
      "metadata": {
        "id": "cGnPJM0vlG2C",
        "colab_type": "text"
      },
      "source": [
        "Hidden Markov Models"
      ]
    },
    {
      "cell_type": "code",
      "metadata": {
        "id": "YC2tTtialLu0",
        "colab_type": "code",
        "colab": {
          "base_uri": "https://localhost:8080/",
          "height": 224
        },
        "outputId": "84e5825f-026f-4227-deba-8c3f2a5b2c0a"
      },
      "source": [
        "%tensorflow_version 2.x \n",
        "!pip install tensorflow_probability==0.8.0rc0 --user --upgrade"
      ],
      "execution_count": 4,
      "outputs": [
        {
          "output_type": "stream",
          "text": [
            "Collecting tensorflow_probability==0.8.0rc0\n",
            "\u001b[?25l  Downloading https://files.pythonhosted.org/packages/b2/63/f54ce32063abaa682d779e44b49eb63fcf63c2422f978842fdeda794337d/tensorflow_probability-0.8.0rc0-py2.py3-none-any.whl (2.5MB)\n",
            "\r\u001b[K     |▏                               | 10kB 17.4MB/s eta 0:00:01\r\u001b[K     |▎                               | 20kB 1.7MB/s eta 0:00:02\r\u001b[K     |▍                               | 30kB 2.3MB/s eta 0:00:02\r\u001b[K     |▌                               | 40kB 2.5MB/s eta 0:00:01\r\u001b[K     |▋                               | 51kB 2.0MB/s eta 0:00:02\r\u001b[K     |▉                               | 61kB 2.3MB/s eta 0:00:02\r\u001b[K     |█                               | 71kB 2.5MB/s eta 0:00:01\r\u001b[K     |█                               | 81kB 2.7MB/s eta 0:00:01\r\u001b[K     |█▏                              | 92kB 2.9MB/s eta 0:00:01\r\u001b[K     |█▎                              | 102kB 2.8MB/s eta 0:00:01\r\u001b[K     |█▍                              | 112kB 2.8MB/s eta 0:00:01\r\u001b[K     |█▋                              | 122kB 2.8MB/s eta 0:00:01\r\u001b[K     |█▊                              | 133kB 2.8MB/s eta 0:00:01\r\u001b[K     |█▉                              | 143kB 2.8MB/s eta 0:00:01\r\u001b[K     |██                              | 153kB 2.8MB/s eta 0:00:01\r\u001b[K     |██                              | 163kB 2.8MB/s eta 0:00:01\r\u001b[K     |██▏                             | 174kB 2.8MB/s eta 0:00:01\r\u001b[K     |██▍                             | 184kB 2.8MB/s eta 0:00:01\r\u001b[K     |██▌                             | 194kB 2.8MB/s eta 0:00:01\r\u001b[K     |██▋                             | 204kB 2.8MB/s eta 0:00:01\r\u001b[K     |██▊                             | 215kB 2.8MB/s eta 0:00:01\r\u001b[K     |██▉                             | 225kB 2.8MB/s eta 0:00:01\r\u001b[K     |███                             | 235kB 2.8MB/s eta 0:00:01\r\u001b[K     |███▏                            | 245kB 2.8MB/s eta 0:00:01\r\u001b[K     |███▎                            | 256kB 2.8MB/s eta 0:00:01\r\u001b[K     |███▍                            | 266kB 2.8MB/s eta 0:00:01\r\u001b[K     |███▌                            | 276kB 2.8MB/s eta 0:00:01\r\u001b[K     |███▋                            | 286kB 2.8MB/s eta 0:00:01\r\u001b[K     |███▊                            | 296kB 2.8MB/s eta 0:00:01\r\u001b[K     |████                            | 307kB 2.8MB/s eta 0:00:01\r\u001b[K     |████                            | 317kB 2.8MB/s eta 0:00:01\r\u001b[K     |████▏                           | 327kB 2.8MB/s eta 0:00:01\r\u001b[K     |████▎                           | 337kB 2.8MB/s eta 0:00:01\r\u001b[K     |████▍                           | 348kB 2.8MB/s eta 0:00:01\r\u001b[K     |████▌                           | 358kB 2.8MB/s eta 0:00:01\r\u001b[K     |████▊                           | 368kB 2.8MB/s eta 0:00:01\r\u001b[K     |████▉                           | 378kB 2.8MB/s eta 0:00:01\r\u001b[K     |█████                           | 389kB 2.8MB/s eta 0:00:01\r\u001b[K     |█████                           | 399kB 2.8MB/s eta 0:00:01\r\u001b[K     |█████▏                          | 409kB 2.8MB/s eta 0:00:01\r\u001b[K     |█████▎                          | 419kB 2.8MB/s eta 0:00:01\r\u001b[K     |█████▌                          | 430kB 2.8MB/s eta 0:00:01\r\u001b[K     |█████▋                          | 440kB 2.8MB/s eta 0:00:01\r\u001b[K     |█████▊                          | 450kB 2.8MB/s eta 0:00:01\r\u001b[K     |█████▉                          | 460kB 2.8MB/s eta 0:00:01\r\u001b[K     |██████                          | 471kB 2.8MB/s eta 0:00:01\r\u001b[K     |██████                          | 481kB 2.8MB/s eta 0:00:01\r\u001b[K     |██████▎                         | 491kB 2.8MB/s eta 0:00:01\r\u001b[K     |██████▍                         | 501kB 2.8MB/s eta 0:00:01\r\u001b[K     |██████▌                         | 512kB 2.8MB/s eta 0:00:01\r\u001b[K     |██████▋                         | 522kB 2.8MB/s eta 0:00:01\r\u001b[K     |██████▊                         | 532kB 2.8MB/s eta 0:00:01\r\u001b[K     |██████▉                         | 542kB 2.8MB/s eta 0:00:01\r\u001b[K     |███████                         | 552kB 2.8MB/s eta 0:00:01\r\u001b[K     |███████▏                        | 563kB 2.8MB/s eta 0:00:01\r\u001b[K     |███████▎                        | 573kB 2.8MB/s eta 0:00:01\r\u001b[K     |███████▍                        | 583kB 2.8MB/s eta 0:00:01\r\u001b[K     |███████▌                        | 593kB 2.8MB/s eta 0:00:01\r\u001b[K     |███████▊                        | 604kB 2.8MB/s eta 0:00:01\r\u001b[K     |███████▉                        | 614kB 2.8MB/s eta 0:00:01\r\u001b[K     |████████                        | 624kB 2.8MB/s eta 0:00:01\r\u001b[K     |████████                        | 634kB 2.8MB/s eta 0:00:01\r\u001b[K     |████████▏                       | 645kB 2.8MB/s eta 0:00:01\r\u001b[K     |████████▎                       | 655kB 2.8MB/s eta 0:00:01\r\u001b[K     |████████▌                       | 665kB 2.8MB/s eta 0:00:01\r\u001b[K     |████████▋                       | 675kB 2.8MB/s eta 0:00:01\r\u001b[K     |████████▊                       | 686kB 2.8MB/s eta 0:00:01\r\u001b[K     |████████▉                       | 696kB 2.8MB/s eta 0:00:01\r\u001b[K     |█████████                       | 706kB 2.8MB/s eta 0:00:01\r\u001b[K     |█████████                       | 716kB 2.8MB/s eta 0:00:01\r\u001b[K     |█████████▎                      | 727kB 2.8MB/s eta 0:00:01\r\u001b[K     |█████████▍                      | 737kB 2.8MB/s eta 0:00:01\r\u001b[K     |█████████▌                      | 747kB 2.8MB/s eta 0:00:01\r\u001b[K     |█████████▋                      | 757kB 2.8MB/s eta 0:00:01\r\u001b[K     |█████████▊                      | 768kB 2.8MB/s eta 0:00:01\r\u001b[K     |█████████▉                      | 778kB 2.8MB/s eta 0:00:01\r\u001b[K     |██████████                      | 788kB 2.8MB/s eta 0:00:01\r\u001b[K     |██████████▏                     | 798kB 2.8MB/s eta 0:00:01\r\u001b[K     |██████████▎                     | 808kB 2.8MB/s eta 0:00:01\r\u001b[K     |██████████▍                     | 819kB 2.8MB/s eta 0:00:01\r\u001b[K     |██████████▌                     | 829kB 2.8MB/s eta 0:00:01\r\u001b[K     |██████████▋                     | 839kB 2.8MB/s eta 0:00:01\r\u001b[K     |██████████▉                     | 849kB 2.8MB/s eta 0:00:01\r\u001b[K     |███████████                     | 860kB 2.8MB/s eta 0:00:01\r\u001b[K     |███████████                     | 870kB 2.8MB/s eta 0:00:01\r\u001b[K     |███████████▏                    | 880kB 2.8MB/s eta 0:00:01\r\u001b[K     |███████████▎                    | 890kB 2.8MB/s eta 0:00:01\r\u001b[K     |███████████▍                    | 901kB 2.8MB/s eta 0:00:01\r\u001b[K     |███████████▋                    | 911kB 2.8MB/s eta 0:00:01\r\u001b[K     |███████████▊                    | 921kB 2.8MB/s eta 0:00:01\r\u001b[K     |███████████▉                    | 931kB 2.8MB/s eta 0:00:01\r\u001b[K     |████████████                    | 942kB 2.8MB/s eta 0:00:01\r\u001b[K     |████████████                    | 952kB 2.8MB/s eta 0:00:01\r\u001b[K     |████████████▏                   | 962kB 2.8MB/s eta 0:00:01\r\u001b[K     |████████████▍                   | 972kB 2.8MB/s eta 0:00:01\r\u001b[K     |████████████▌                   | 983kB 2.8MB/s eta 0:00:01\r\u001b[K     |████████████▋                   | 993kB 2.8MB/s eta 0:00:01\r\u001b[K     |████████████▊                   | 1.0MB 2.8MB/s eta 0:00:01\r\u001b[K     |████████████▉                   | 1.0MB 2.8MB/s eta 0:00:01\r\u001b[K     |█████████████                   | 1.0MB 2.8MB/s eta 0:00:01\r\u001b[K     |█████████████▏                  | 1.0MB 2.8MB/s eta 0:00:01\r\u001b[K     |█████████████▎                  | 1.0MB 2.8MB/s eta 0:00:01\r\u001b[K     |█████████████▍                  | 1.1MB 2.8MB/s eta 0:00:01\r\u001b[K     |█████████████▌                  | 1.1MB 2.8MB/s eta 0:00:01\r\u001b[K     |█████████████▋                  | 1.1MB 2.8MB/s eta 0:00:01\r\u001b[K     |█████████████▊                  | 1.1MB 2.8MB/s eta 0:00:01\r\u001b[K     |██████████████                  | 1.1MB 2.8MB/s eta 0:00:01\r\u001b[K     |██████████████                  | 1.1MB 2.8MB/s eta 0:00:01\r\u001b[K     |██████████████▏                 | 1.1MB 2.8MB/s eta 0:00:01\r\u001b[K     |██████████████▎                 | 1.1MB 2.8MB/s eta 0:00:01\r\u001b[K     |██████████████▍                 | 1.1MB 2.8MB/s eta 0:00:01\r\u001b[K     |██████████████▋                 | 1.1MB 2.8MB/s eta 0:00:01\r\u001b[K     |██████████████▊                 | 1.2MB 2.8MB/s eta 0:00:01\r\u001b[K     |██████████████▉                 | 1.2MB 2.8MB/s eta 0:00:01\r\u001b[K     |███████████████                 | 1.2MB 2.8MB/s eta 0:00:01\r\u001b[K     |███████████████                 | 1.2MB 2.8MB/s eta 0:00:01\r\u001b[K     |███████████████▏                | 1.2MB 2.8MB/s eta 0:00:01\r\u001b[K     |███████████████▍                | 1.2MB 2.8MB/s eta 0:00:01\r\u001b[K     |███████████████▌                | 1.2MB 2.8MB/s eta 0:00:01\r\u001b[K     |███████████████▋                | 1.2MB 2.8MB/s eta 0:00:01\r\u001b[K     |███████████████▊                | 1.2MB 2.8MB/s eta 0:00:01\r\u001b[K     |███████████████▉                | 1.2MB 2.8MB/s eta 0:00:01\r\u001b[K     |████████████████                | 1.3MB 2.8MB/s eta 0:00:01\r\u001b[K     |████████████████▏               | 1.3MB 2.8MB/s eta 0:00:01\r\u001b[K     |████████████████▎               | 1.3MB 2.8MB/s eta 0:00:01\r\u001b[K     |████████████████▍               | 1.3MB 2.8MB/s eta 0:00:01\r\u001b[K     |████████████████▌               | 1.3MB 2.8MB/s eta 0:00:01\r\u001b[K     |████████████████▋               | 1.3MB 2.8MB/s eta 0:00:01\r\u001b[K     |████████████████▊               | 1.3MB 2.8MB/s eta 0:00:01\r\u001b[K     |█████████████████               | 1.3MB 2.8MB/s eta 0:00:01\r\u001b[K     |█████████████████               | 1.3MB 2.8MB/s eta 0:00:01\r\u001b[K     |█████████████████▏              | 1.4MB 2.8MB/s eta 0:00:01\r\u001b[K     |█████████████████▎              | 1.4MB 2.8MB/s eta 0:00:01\r\u001b[K     |█████████████████▍              | 1.4MB 2.8MB/s eta 0:00:01\r\u001b[K     |█████████████████▌              | 1.4MB 2.8MB/s eta 0:00:01\r\u001b[K     |█████████████████▊              | 1.4MB 2.8MB/s eta 0:00:01\r\u001b[K     |█████████████████▉              | 1.4MB 2.8MB/s eta 0:00:01\r\u001b[K     |██████████████████              | 1.4MB 2.8MB/s eta 0:00:01\r\u001b[K     |██████████████████              | 1.4MB 2.8MB/s eta 0:00:01\r\u001b[K     |██████████████████▏             | 1.4MB 2.8MB/s eta 0:00:01\r\u001b[K     |██████████████████▎             | 1.4MB 2.8MB/s eta 0:00:01\r\u001b[K     |██████████████████▌             | 1.5MB 2.8MB/s eta 0:00:01\r\u001b[K     |██████████████████▋             | 1.5MB 2.8MB/s eta 0:00:01\r\u001b[K     |██████████████████▊             | 1.5MB 2.8MB/s eta 0:00:01\r\u001b[K     |██████████████████▉             | 1.5MB 2.8MB/s eta 0:00:01\r\u001b[K     |███████████████████             | 1.5MB 2.8MB/s eta 0:00:01\r\u001b[K     |███████████████████             | 1.5MB 2.8MB/s eta 0:00:01\r\u001b[K     |███████████████████▎            | 1.5MB 2.8MB/s eta 0:00:01\r\u001b[K     |███████████████████▍            | 1.5MB 2.8MB/s eta 0:00:01\r\u001b[K     |███████████████████▌            | 1.5MB 2.8MB/s eta 0:00:01\r\u001b[K     |███████████████████▋            | 1.5MB 2.8MB/s eta 0:00:01\r\u001b[K     |███████████████████▊            | 1.6MB 2.8MB/s eta 0:00:01\r\u001b[K     |███████████████████▉            | 1.6MB 2.8MB/s eta 0:00:01\r\u001b[K     |████████████████████            | 1.6MB 2.8MB/s eta 0:00:01\r\u001b[K     |████████████████████▏           | 1.6MB 2.8MB/s eta 0:00:01\r\u001b[K     |████████████████████▎           | 1.6MB 2.8MB/s eta 0:00:01\r\u001b[K     |████████████████████▍           | 1.6MB 2.8MB/s eta 0:00:01\r\u001b[K     |████████████████████▌           | 1.6MB 2.8MB/s eta 0:00:01\r\u001b[K     |████████████████████▋           | 1.6MB 2.8MB/s eta 0:00:01\r\u001b[K     |████████████████████▉           | 1.6MB 2.8MB/s eta 0:00:01\r\u001b[K     |█████████████████████           | 1.6MB 2.8MB/s eta 0:00:01\r\u001b[K     |█████████████████████           | 1.7MB 2.8MB/s eta 0:00:01\r\u001b[K     |█████████████████████▏          | 1.7MB 2.8MB/s eta 0:00:01\r\u001b[K     |█████████████████████▎          | 1.7MB 2.8MB/s eta 0:00:01\r\u001b[K     |█████████████████████▍          | 1.7MB 2.8MB/s eta 0:00:01\r\u001b[K     |█████████████████████▋          | 1.7MB 2.8MB/s eta 0:00:01\r\u001b[K     |█████████████████████▊          | 1.7MB 2.8MB/s eta 0:00:01\r\u001b[K     |█████████████████████▉          | 1.7MB 2.8MB/s eta 0:00:01\r\u001b[K     |██████████████████████          | 1.7MB 2.8MB/s eta 0:00:01\r\u001b[K     |██████████████████████          | 1.7MB 2.8MB/s eta 0:00:01\r\u001b[K     |██████████████████████▎         | 1.8MB 2.8MB/s eta 0:00:01\r\u001b[K     |██████████████████████▍         | 1.8MB 2.8MB/s eta 0:00:01\r\u001b[K     |██████████████████████▌         | 1.8MB 2.8MB/s eta 0:00:01\r\u001b[K     |██████████████████████▋         | 1.8MB 2.8MB/s eta 0:00:01\r\u001b[K     |██████████████████████▊         | 1.8MB 2.8MB/s eta 0:00:01\r\u001b[K     |██████████████████████▉         | 1.8MB 2.8MB/s eta 0:00:01\r\u001b[K     |███████████████████████         | 1.8MB 2.8MB/s eta 0:00:01\r\u001b[K     |███████████████████████▏        | 1.8MB 2.8MB/s eta 0:00:01\r\u001b[K     |███████████████████████▎        | 1.8MB 2.8MB/s eta 0:00:01\r\u001b[K     |███████████████████████▍        | 1.8MB 2.8MB/s eta 0:00:01\r\u001b[K     |███████████████████████▌        | 1.9MB 2.8MB/s eta 0:00:01\r\u001b[K     |███████████████████████▋        | 1.9MB 2.8MB/s eta 0:00:01\r\u001b[K     |███████████████████████▉        | 1.9MB 2.8MB/s eta 0:00:01\r\u001b[K     |████████████████████████        | 1.9MB 2.8MB/s eta 0:00:01\r\u001b[K     |████████████████████████        | 1.9MB 2.8MB/s eta 0:00:01\r\u001b[K     |████████████████████████▏       | 1.9MB 2.8MB/s eta 0:00:01\r\u001b[K     |████████████████████████▎       | 1.9MB 2.8MB/s eta 0:00:01\r\u001b[K     |████████████████████████▍       | 1.9MB 2.8MB/s eta 0:00:01\r\u001b[K     |████████████████████████▋       | 1.9MB 2.8MB/s eta 0:00:01\r\u001b[K     |████████████████████████▊       | 1.9MB 2.8MB/s eta 0:00:01\r\u001b[K     |████████████████████████▉       | 2.0MB 2.8MB/s eta 0:00:01\r\u001b[K     |█████████████████████████       | 2.0MB 2.8MB/s eta 0:00:01\r\u001b[K     |█████████████████████████       | 2.0MB 2.8MB/s eta 0:00:01\r\u001b[K     |█████████████████████████▏      | 2.0MB 2.8MB/s eta 0:00:01\r\u001b[K     |█████████████████████████▍      | 2.0MB 2.8MB/s eta 0:00:01\r\u001b[K     |█████████████████████████▌      | 2.0MB 2.8MB/s eta 0:00:01\r\u001b[K     |█████████████████████████▋      | 2.0MB 2.8MB/s eta 0:00:01\r\u001b[K     |█████████████████████████▊      | 2.0MB 2.8MB/s eta 0:00:01\r\u001b[K     |█████████████████████████▉      | 2.0MB 2.8MB/s eta 0:00:01\r\u001b[K     |██████████████████████████      | 2.0MB 2.8MB/s eta 0:00:01\r\u001b[K     |██████████████████████████▏     | 2.1MB 2.8MB/s eta 0:00:01\r\u001b[K     |██████████████████████████▎     | 2.1MB 2.8MB/s eta 0:00:01\r\u001b[K     |██████████████████████████▍     | 2.1MB 2.8MB/s eta 0:00:01\r\u001b[K     |██████████████████████████▌     | 2.1MB 2.8MB/s eta 0:00:01\r\u001b[K     |██████████████████████████▋     | 2.1MB 2.8MB/s eta 0:00:01\r\u001b[K     |██████████████████████████▊     | 2.1MB 2.8MB/s eta 0:00:01\r\u001b[K     |███████████████████████████     | 2.1MB 2.8MB/s eta 0:00:01\r\u001b[K     |███████████████████████████     | 2.1MB 2.8MB/s eta 0:00:01\r\u001b[K     |███████████████████████████▏    | 2.1MB 2.8MB/s eta 0:00:01\r\u001b[K     |███████████████████████████▎    | 2.2MB 2.8MB/s eta 0:00:01\r\u001b[K     |███████████████████████████▍    | 2.2MB 2.8MB/s eta 0:00:01\r\u001b[K     |███████████████████████████▌    | 2.2MB 2.8MB/s eta 0:00:01\r\u001b[K     |███████████████████████████▊    | 2.2MB 2.8MB/s eta 0:00:01\r\u001b[K     |███████████████████████████▉    | 2.2MB 2.8MB/s eta 0:00:01\r\u001b[K     |████████████████████████████    | 2.2MB 2.8MB/s eta 0:00:01\r\u001b[K     |████████████████████████████    | 2.2MB 2.8MB/s eta 0:00:01\r\u001b[K     |████████████████████████████▏   | 2.2MB 2.8MB/s eta 0:00:01\r\u001b[K     |████████████████████████████▎   | 2.2MB 2.8MB/s eta 0:00:01\r\u001b[K     |████████████████████████████▌   | 2.2MB 2.8MB/s eta 0:00:01\r\u001b[K     |████████████████████████████▋   | 2.3MB 2.8MB/s eta 0:00:01\r\u001b[K     |████████████████████████████▊   | 2.3MB 2.8MB/s eta 0:00:01\r\u001b[K     |████████████████████████████▉   | 2.3MB 2.8MB/s eta 0:00:01\r\u001b[K     |█████████████████████████████   | 2.3MB 2.8MB/s eta 0:00:01\r\u001b[K     |█████████████████████████████▏  | 2.3MB 2.8MB/s eta 0:00:01\r\u001b[K     |█████████████████████████████▎  | 2.3MB 2.8MB/s eta 0:00:01\r\u001b[K     |█████████████████████████████▍  | 2.3MB 2.8MB/s eta 0:00:01\r\u001b[K     |█████████████████████████████▌  | 2.3MB 2.8MB/s eta 0:00:01\r\u001b[K     |█████████████████████████████▋  | 2.3MB 2.8MB/s eta 0:00:01\r\u001b[K     |█████████████████████████████▊  | 2.3MB 2.8MB/s eta 0:00:01\r\u001b[K     |██████████████████████████████  | 2.4MB 2.8MB/s eta 0:00:01\r\u001b[K     |██████████████████████████████  | 2.4MB 2.8MB/s eta 0:00:01\r\u001b[K     |██████████████████████████████▏ | 2.4MB 2.8MB/s eta 0:00:01\r\u001b[K     |██████████████████████████████▎ | 2.4MB 2.8MB/s eta 0:00:01\r\u001b[K     |██████████████████████████████▍ | 2.4MB 2.8MB/s eta 0:00:01\r\u001b[K     |██████████████████████████████▌ | 2.4MB 2.8MB/s eta 0:00:01\r\u001b[K     |██████████████████████████████▊ | 2.4MB 2.8MB/s eta 0:00:01\r\u001b[K     |██████████████████████████████▉ | 2.4MB 2.8MB/s eta 0:00:01\r\u001b[K     |███████████████████████████████ | 2.4MB 2.8MB/s eta 0:00:01\r\u001b[K     |███████████████████████████████ | 2.4MB 2.8MB/s eta 0:00:01\r\u001b[K     |███████████████████████████████▏| 2.5MB 2.8MB/s eta 0:00:01\r\u001b[K     |███████████████████████████████▎| 2.5MB 2.8MB/s eta 0:00:01\r\u001b[K     |███████████████████████████████▌| 2.5MB 2.8MB/s eta 0:00:01\r\u001b[K     |███████████████████████████████▋| 2.5MB 2.8MB/s eta 0:00:01\r\u001b[K     |███████████████████████████████▊| 2.5MB 2.8MB/s eta 0:00:01\r\u001b[K     |███████████████████████████████▉| 2.5MB 2.8MB/s eta 0:00:01\r\u001b[K     |████████████████████████████████| 2.5MB 2.8MB/s eta 0:00:01\r\u001b[K     |████████████████████████████████| 2.5MB 2.8MB/s \n",
            "\u001b[?25hCollecting cloudpickle==1.1.1\n",
            "  Downloading https://files.pythonhosted.org/packages/24/fb/4f92f8c0f40a0d728b4f3d5ec5ff84353e705d8ff5e3e447620ea98b06bd/cloudpickle-1.1.1-py2.py3-none-any.whl\n",
            "Requirement already satisfied, skipping upgrade: numpy>=1.13.3 in /usr/local/lib/python3.6/dist-packages (from tensorflow_probability==0.8.0rc0) (1.18.5)\n",
            "Requirement already satisfied, skipping upgrade: six>=1.10.0 in /usr/local/lib/python3.6/dist-packages (from tensorflow_probability==0.8.0rc0) (1.15.0)\n",
            "Requirement already satisfied, skipping upgrade: decorator in /usr/local/lib/python3.6/dist-packages (from tensorflow_probability==0.8.0rc0) (4.4.2)\n",
            "\u001b[31mERROR: gym 0.17.2 has requirement cloudpickle<1.4.0,>=1.2.0, but you'll have cloudpickle 1.1.1 which is incompatible.\u001b[0m\n",
            "Installing collected packages: cloudpickle, tensorflow-probability\n",
            "Successfully installed cloudpickle-1.1.1 tensorflow-probability-0.8.0rc0\n"
          ],
          "name": "stdout"
        }
      ]
    },
    {
      "cell_type": "code",
      "metadata": {
        "id": "rK4qDiaYlWu7",
        "colab_type": "code",
        "colab": {}
      },
      "source": [
        "import tensorflow_probability as tfp  # We are using a different module from tensorflow this time\n",
        "import tensorflow as tf"
      ],
      "execution_count": 5,
      "outputs": []
    },
    {
      "cell_type": "code",
      "metadata": {
        "id": "UgtybOyWlcIE",
        "colab_type": "code",
        "colab": {}
      },
      "source": [
        "tfd = tfp.distributions  # making a shortcut for later on\n",
        "initial_distribution = tfd.Categorical(probs=[0.2, 0.8])  # Refer to point 2 above\n",
        "transition_distribution = tfd.Categorical(probs=[[0.5, 0.5],\n",
        "                                                 [0.2, 0.8]])  # refer to points 3 and 4 above\n",
        "observation_distribution = tfd.Normal(loc=[0., 15.], scale=[5., 10.])  # refer to point 5 above\n",
        "\n",
        "# the loc argument represents the mean and the scale is the standard devitation"
      ],
      "execution_count": 7,
      "outputs": []
    },
    {
      "cell_type": "code",
      "metadata": {
        "id": "7pg0gBIQmFZj",
        "colab_type": "code",
        "colab": {}
      },
      "source": [
        "model = tfd.HiddenMarkovModel(\n",
        "    initial_distribution=initial_distribution,\n",
        "    transition_distribution=transition_distribution,\n",
        "    observation_distribution=observation_distribution,\n",
        "    num_steps=7)"
      ],
      "execution_count": 10,
      "outputs": []
    },
    {
      "cell_type": "code",
      "metadata": {
        "id": "fDW9Y2Ivmkyl",
        "colab_type": "code",
        "colab": {
          "base_uri": "https://localhost:8080/",
          "height": 34
        },
        "outputId": "59f1b10a-dc0b-41bd-835d-b2fefe8e3d9c"
      },
      "source": [
        "mean = model.mean()\n",
        "\n",
        "# due to the way TensorFlow works on a lower level we need to evaluate part of the graph\n",
        "# from within a session to see the value of this tensor\n",
        "\n",
        "# in the new version of tensorflow we need to use tf.compat.v1.Session() rather than just tf.Session()\n",
        "with tf.compat.v1.Session() as sess:  \n",
        "  print(mean.numpy())"
      ],
      "execution_count": 11,
      "outputs": [
        {
          "output_type": "stream",
          "text": [
            "[12.       11.1      10.83     10.748999 10.724699 10.71741  10.715222]\n"
          ],
          "name": "stdout"
        }
      ]
    }
  ]
}